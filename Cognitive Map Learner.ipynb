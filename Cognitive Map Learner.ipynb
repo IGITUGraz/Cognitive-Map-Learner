{
 "cells": [
  {
   "cell_type": "code",
   "execution_count": 1,
   "id": "3f039924",
   "metadata": {},
   "outputs": [],
   "source": [
    "# Import necessary libraries\n",
    "import torch\n",
    "from torch.utils.data import Dataset, DataLoader  \n",
    "import torch.nn as nn\n",
    "import torch.optim as optim\n",
    "import numpy as np\n",
    "from tqdm.notebook import tqdm\n",
    "from sklearn.manifold import TSNE\n",
    "from sklearn.decomposition import PCA\n",
    "import matplotlib.pyplot as plt\n",
    "from matplotlib.ticker import MaxNLocator\n",
    "import networkx as nx\n",
    "import numpy as np\n",
    "import random\n",
    "\n",
    "# Set the device to GPU if available\n",
    "device = torch.device(\"cuda:0\" if torch.cuda.is_available() else \"cpu\")"
   ]
  },
  {
   "cell_type": "code",
   "execution_count": 2,
   "id": "0c31d4ba",
   "metadata": {},
   "outputs": [],
   "source": [
    "# function to generate a random graph\n",
    "def construct_random_subgraph(num_nodes, min_edges=2, max_edges=5):\n",
    "    min_edges-=1\n",
    "    max_edges-=1\n",
    "    connections = np.random.uniform(size=(num_nodes, num_nodes))\n",
    "    connections += np.roll(np.eye(num_nodes), 1, 1)  # make sure every node is connected\n",
    "    connections -= np.eye(num_nodes)  # make sure no self-connections\n",
    "    # set strongest connections\n",
    "    sorted_connections = np.sort(connections)[:, ::-1]\n",
    "    min_edges = min_edges\n",
    "    max_edges = max_edges + 1\n",
    "    min_edges = int(min_edges / 2 + 0.5)  # used to be min_edges // 2\n",
    "    max_edges = int(max_edges / 2 + 0.5)\n",
    "    indices = np.stack([np.arange(num_nodes), np.random.randint(min_edges, max_edges, num_nodes)])\n",
    "    thresholds = sorted_connections[indices[0], indices[1]]\n",
    "    connections = np.where(connections > thresholds[:, None], 1., 0.).astype(np.float32)\n",
    "    connections = np.clip(connections + connections.T, 0, 1)\n",
    "    return connections\n",
    "\n",
    "# function to generate a random small world graph\n",
    "def construct_small_world_graph(n_nodes_per_world=6, n_worlds=4):\n",
    "    n_nodes = n_nodes_per_world * n_worlds\n",
    "    connections = np.zeros((n_nodes, n_nodes))\n",
    "    for world_i in range(n_worlds):\n",
    "        connection = construct_random_subgraph(n_nodes_per_world)\n",
    "        # add to global graph\n",
    "        start_i = world_i * n_nodes_per_world\n",
    "        end_i = (world_i+1) * n_nodes_per_world\n",
    "        connections[start_i:end_i, start_i:end_i] = connection\n",
    "        # connect to graph\n",
    "        if world_i != 0:\n",
    "            node_from = np.random.randint(start_i, end_i)\n",
    "            node_to = node_from - n_nodes_per_world\n",
    "            connections[node_from, node_to] = 1\n",
    "            connections[node_to, node_from] = 1\n",
    "    return connections\n",
    "\n",
    "# function to generate a dead ends graph\n",
    "def construct_dead_ends_graph():\n",
    "    # construct the shell-like connectivity\n",
    "    n_shells = 4\n",
    "    n_neurons_per_shell = 6\n",
    "    layers_with_circular_connection = [1]\n",
    "    size = n_shells * n_neurons_per_shell\n",
    "    connections = np.zeros((size, size)).astype(np.float32)\n",
    "    eye = np.eye(n_neurons_per_shell)\n",
    "    for i in range(n_shells):\n",
    "        if i in layers_with_circular_connection:\n",
    "            # add circular connection\n",
    "            idx = i * n_neurons_per_shell\n",
    "            connections[idx:idx+n_neurons_per_shell, idx:idx+n_neurons_per_shell] = np.roll(eye, 1, axis=1)\n",
    "\n",
    "        # add connections to next shell\n",
    "        if i + 1 < n_shells:\n",
    "            # connect to outer shell\n",
    "            idx = i * n_neurons_per_shell\n",
    "            j = idx + n_neurons_per_shell\n",
    "            connections[idx:idx+n_neurons_per_shell, j:j+n_neurons_per_shell] = eye\n",
    "\n",
    "    connections = connections + connections.T\n",
    "    return connections\n",
    "\n",
    "# function to generate a grid graph with numerical paths to move to a target\n",
    "def construct_grid_graph():\n",
    "    n = 4\n",
    "    l = 5\n",
    "    n_nodes = n * l + l // 2\n",
    "\n",
    "    tmp_n_nodes = 0\n",
    "    layer_index_bounds = []\n",
    "    for i in range(l):\n",
    "        tmp_n_nodes += n if i % 2 == 0 else n + 1\n",
    "        layer_index_bounds.append(tmp_n_nodes)\n",
    "\n",
    "    connections = []\n",
    "\n",
    "    lower_idx = 0\n",
    "    for layer_idx in range(l):\n",
    "        upper_idx = layer_index_bounds[layer_idx]\n",
    "        for i in range(lower_idx, upper_idx):\n",
    "            if i + 1 < upper_idx:\n",
    "                connections.append([i, i + 1])\n",
    "            if layer_idx + 1 < l:\n",
    "                # not last layer\n",
    "                next_upper_idx = layer_index_bounds[layer_idx+1]\n",
    "                dist1 = n if layer_idx % 2 == 0 else n + 1\n",
    "                dist2 = n + 1 if layer_idx % 2 == 0 else n\n",
    "                if upper_idx <= i + dist1 < next_upper_idx:\n",
    "                    connections.append([i, i + dist1])\n",
    "                if upper_idx <= i + dist2 < next_upper_idx:\n",
    "                    connections.append([i, i + dist2])\n",
    "        lower_idx = upper_idx\n",
    "    connections = np.array(connections)\n",
    "    i, j = connections.T\n",
    "    adj = np.zeros((n_nodes, n_nodes))\n",
    "    adj[i, j] = 1\n",
    "    adj += adj.T\n",
    "    return adj"
   ]
  },
  {
   "cell_type": "code",
   "execution_count": 3,
   "id": "a259fe6b",
   "metadata": {},
   "outputs": [],
   "source": [
    "# Create a dataset of trajectories\n",
    "class RandomWalkDataset(Dataset):\n",
    "    def __init__(self, adj_matrix, trajectory_length, num_trajectories):\n",
    "        self.adj_matrix = adj_matrix\n",
    "        self.num_trajectories = num_trajectories\n",
    "        self.trajectory_length = trajectory_length\n",
    "        self.edges, self.action_indices = edges_from_adjacency(adj_matrix)\n",
    "        start_nodes = torch.randint(0, adj_matrix.size(0), (num_trajectories,)).tolist()\n",
    "        self.data = []\n",
    "        for node in start_nodes:\n",
    "            trajectory = strict_random_walk(self.adj_matrix, node, self.trajectory_length, self.action_indices)\n",
    "            self.data.append(torch.tensor([(x[0], x[1], x[2]) for x in trajectory]))\n",
    "    def __len__(self):\n",
    "        return self.num_trajectories  # Number of trajectories\n",
    "\n",
    "    def __getitem__(self, idx):\n",
    "        return self.data[idx]\n",
    "    \n",
    "    \n",
    "# function to generate random walk trajectories on a given graph\n",
    "def strict_random_walk(adj_matrix, start_node, length, action_indices):\n",
    "    current_node = start_node\n",
    "    trajectory = []\n",
    "    for _ in range(length - 1):  # subtract 1 to account for the start node\n",
    "        neighbors = torch.where(adj_matrix[current_node] > 0)[0].tolist()\n",
    "        if not neighbors:\n",
    "            break\n",
    "        next_node = neighbors[torch.randint(0, len(neighbors), (1,)).item()]\n",
    "        trajectory.append((current_node, action_indices[(current_node, next_node)], next_node))\n",
    "        current_node = next_node\n",
    "    return trajectory\n",
    "\n",
    "# indexing each action for a given adjacency matrix\n",
    "def edges_from_adjacency(adj_matrix):\n",
    "    # The input is a given random matrix's adjacency matrix\n",
    "    # The outputs are:\n",
    "        # edges: a list of pairs of (start node, end node) for each action\n",
    "        # action_indices: a dictionary, each key is a pair of(start node, end node),\n",
    "            # and its corresponding value is this action's index\n",
    "    # For a pure on-line algorithm, this can also be done by assigning index to unseen actions\n",
    "    # during random-walk on-line\n",
    "    n = adj_matrix.shape[0]\n",
    "    edges = []\n",
    "    action_idx = 0\n",
    "    action_indices = {}\n",
    "    for i in range(n):\n",
    "        for j in range(i+1, n):  # Only upper triangle\n",
    "            if adj_matrix[i][j] != 0:\n",
    "                edges.append((i, j))\n",
    "                action_indices[(i, j)] = action_idx\n",
    "                action_idx += 1\n",
    "                edges.append((j, i))\n",
    "                action_indices[(j, i)] = action_idx\n",
    "                action_idx += 1\n",
    "    return edges, action_indices"
   ]
  },
  {
   "cell_type": "code",
   "execution_count": 4,
   "id": "30071b2b",
   "metadata": {},
   "outputs": [],
   "source": [
    "class GraphEnv():\n",
    "    def __init__(self, size=32, env='random'):\n",
    "        if env == 'random':\n",
    "            self.adj_matrix = construct_random_subgraph(size, 2, 5)\n",
    "        elif env == 'small world':\n",
    "            self.adj_matrix = construct_small_world_graph()\n",
    "        elif env == 'dead ends':\n",
    "            self.adj_matrix = construct_dead_ends_graph()\n",
    "        elif env == 'grid':\n",
    "            self.adj_matrix = construct_grid_graph()\n",
    "        self.adj_matrix = torch.tensor(self.adj_matrix)\n",
    "        self.size = self.adj_matrix.shape[0]\n",
    "        self.affordance, self.node_to_action_matrix,\\\n",
    "        self.action_to_node = node_outgoing_actions(self.adj_matrix)\n",
    "        \n",
    "        self.affordance = {k: torch.tensor(v).to(device)\\\n",
    "                           for k, v in self.affordance.items()}\n",
    "        self.node_to_action_matrix = self.node_to_action_matrix.to(device)\n",
    "        self.action_to_node = {k: torch.tensor(v).to(device) \\\n",
    "                            for k, v in self.action_to_node.items()}\n",
    "        \n",
    "        self.dataset = RandomWalkDataset(self.adj_matrix, batch_size,\\\n",
    "                                         num_desired_trajectories)\n",
    "        self.n_actions = len(self.dataset.action_indices)\n",
    "        \n",
    "def node_outgoing_actions(adj_matrix):\n",
    "    # This function creates several look-up tables for later computation's convecience\n",
    "    edges, action_indices = edges_from_adjacency(adj_matrix)\n",
    "    # Use an action index as a key, retrieve its (start node, end node)\n",
    "    inverse_action_indices = {v: k for k, v in action_indices.items()}\n",
    "    # Given a node as a key, retrieve all of its available outgoing actions' indexes.\n",
    "    node_actions = {}\n",
    "    # Given a pair of (start node, end node), get the action index.\n",
    "    # Since a index can be 0, this matrix is initialized to be a all -1.\n",
    "    node_to_action_matrix = -1*torch.ones_like(adj_matrix)\n",
    "    for edge in edges:\n",
    "        node_from, node_to = edge\n",
    "        if node_from not in node_actions:\n",
    "            node_actions[node_from] = []\n",
    "        node_actions[node_from].append(action_indices[edge])\n",
    "        node_to_action_matrix[node_from][node_to] = action_indices[edge]  \n",
    "    return node_actions, node_to_action_matrix.long(), inverse_action_indices"
   ]
  },
  {
   "cell_type": "code",
   "execution_count": 5,
   "id": "b0abbb5d",
   "metadata": {},
   "outputs": [],
   "source": [
    "class Agent(nn.Module):\n",
    "    def __init__(self, o_size, a_size, s_dim):\n",
    "        super(Agent, self).__init__()\n",
    "        self.Q = nn.Parameter(1*torch.randn(s_dim, o_size, device=device))\n",
    "        self.V = nn.Parameter(0.1*torch.randn(s_dim, a_size, device=device))\n",
    "        self.W = nn.Parameter(0.1*torch.randn(a_size, s_dim, device=device))\n",
    "        self.o_size = o_size\n",
    "        self.a_size = a_size\n",
    "    def forward(self, o_pre, action, o_next):\n",
    "        prediction_error = self.Q[:,o_next]-(self.Q[:,o_pre]+self.V[:,action])\n",
    "        return prediction_error\n",
    "    def plan(self, start, goal, env, weight=False):\n",
    "        a_record = []\n",
    "        o_record = []\n",
    "        loc = int(start)\n",
    "        length = 0\n",
    "        for i in range(self.o_size):\n",
    "            o_record.append(loc)\n",
    "            if loc==goal:\n",
    "                if weight:\n",
    "                    return length, o_record\n",
    "                else:\n",
    "                    return i, o_record\n",
    "            loc, action = self.move_one_step(loc, goal, a_record, env.affordance[loc], \n",
    "                    env.action_to_node, env.node_to_action_matrix[loc], weight)\n",
    "            a_record.append(action)\n",
    "            if weight:\n",
    "                length += w_connection[o_record[-1],loc]\n",
    "\n",
    "        if weight:\n",
    "            return length, o_record\n",
    "        else:\n",
    "            return i, o_record\n",
    "    def move_one_step(self, loc, goal, a_record, affordance, action_to_node,\n",
    "                      next_node_to_action,weight=False):  \n",
    "        affordance_vector = torch.zeros(self.a_size, device=device)\n",
    "        affordance_vector[affordance] = 1\n",
    "        if weight:    \n",
    "            for a in affordance:\n",
    "                a = a.item()\n",
    "                affordance_vector[a]/=(w_connection[action_to_node[a][0],\n",
    "                                                    action_to_node[a][1]])\n",
    "        affordance_vector_fix = affordance_vector.clone()\n",
    "        not_recommended_actions = a_record\n",
    "        affordance_vector_fix[not_recommended_actions] *= 0.\n",
    "\n",
    "        delta = self.Q[:,goal]-self.Q[:,loc]\n",
    "        utility = (self.W@delta) * affordance_vector_fix\n",
    "        if torch.max(utility)!=0:\n",
    "            action_idx = torch.argmax(utility).item()\n",
    "        else:\n",
    "            utility = (self.V.T@delta) * affordance_vector\n",
    "            action_idx = torch.argmax(utility).item()\n",
    "\n",
    "            \n",
    "        return action_to_node[action_idx][1].item(), action_idx"
   ]
  },
  {
   "cell_type": "code",
   "execution_count": 6,
   "id": "6a8a6567",
   "metadata": {},
   "outputs": [],
   "source": [
    "def train_model(model, dataloader, epochs, norm=False):\n",
    "    with torch.no_grad():\n",
    "        loss_record = []\n",
    "        for epoch in tqdm(range(epochs), desc=\"Epochs\"):\n",
    "            count = 0\n",
    "            for trajectory in dataloader:\n",
    "                count += 1\n",
    "                o_pre, action, o_next = trajectory[0,:,0].to(device),\\\n",
    "                                        trajectory[0,:,1].to(device),\\\n",
    "                                        trajectory[0,:,2].to(device)\n",
    "                identity = torch.eye(model.a_size).to(device)\n",
    "                state_diff = model.Q[:,o_next]-model.Q[:,o_pre]\n",
    "                prediction_error = state_diff - model.V[:,action]\n",
    "                desired = identity[action].T\n",
    "                \n",
    "                # Core learning rules:\n",
    "                model.Q[:,o_next] += -0.1 * prediction_error\n",
    "                model.V[:,action] += 0.01 * prediction_error\n",
    "                model.W += 0.01 * desired@state_diff.T\n",
    "                if norm:\n",
    "                    model.V.data = model.V / torch.norm(model.V, dim=0)\n",
    "\n",
    "                loss = nn.MSELoss()(prediction_error, torch.zeros_like(prediction_error))\n",
    "                loss_record.append(loss.cpu().item())\n",
    "    return loss_record"
   ]
  },
  {
   "cell_type": "code",
   "execution_count": 7,
   "id": "0db7c94e",
   "metadata": {},
   "outputs": [],
   "source": [
    "def test_model(model, env, print_results=True):\n",
    "    N_nodes = model.o_size\n",
    "    dis = []\n",
    "    D_dis = []\n",
    "    N_goal = 1000\n",
    "    adj_matrix_tensor = env.adj_matrix.to(device)\n",
    "    graph = nx.from_numpy_matrix(env.adj_matrix.cpu().numpy(), create_using=nx.DiGraph())\n",
    "    for i in range(N_goal):\n",
    "        start_idx = torch.randint(N_nodes, (1,)).to(device)[0]\n",
    "        goal_idx = torch.randint(N_nodes, (1,)).to(device)[0]\n",
    "        with torch.no_grad():\n",
    "            steps, o_record = model.plan(start_idx, goal_idx, env, False)\n",
    "        D_path = nx.shortest_path(graph, source=int(start_idx.cpu()), target=int(goal_idx.cpu()))\n",
    "        D_steps = len(D_path) - 1\n",
    "        dis.append(steps)\n",
    "        D_dis.append(D_steps)\n",
    "\n",
    "    # Convert lists to tensors and move them to GPU\n",
    "    dis = torch.tensor(dis).float().to(device)\n",
    "    D_dis = torch.tensor(D_dis).float().to(device)\n",
    "    mask = dis != (N_nodes-1)\n",
    "    mean_CML = torch.mean(dis).item()\n",
    "    std_CML = torch.std(dis).item()\n",
    "    mean_Dij = torch.mean(D_dis).item()\n",
    "    std_Dij = torch.std(D_dis).item()\n",
    "    if print_results:\n",
    "        print('CML steps:', str(mean_CML)[:6], ', Success Rate:', str((mask.sum() / N_goal * 100).item())[:6] + '%',\n",
    "          ', Dij steps:', str(mean_Dij)[:6], ', Percentage worse:', str((mean_CML / mean_Dij - 1) * 100)[:6] + '%')\n",
    "        print('CML std: ', str(std_CML)[:6], ' Dij std: ', str(std_Dij)[:6])\n",
    "    else:\n",
    "        return mean_CML\n",
    "# "
   ]
  },
  {
   "cell_type": "code",
   "execution_count": 8,
   "id": "1e0bc9cc",
   "metadata": {
    "scrolled": false
   },
   "outputs": [
    {
     "data": {
      "application/vnd.jupyter.widget-view+json": {
       "model_id": "cf7a782476a24f649f6986957c92daea",
       "version_major": 2,
       "version_minor": 0
      },
      "text/plain": [
       "Epochs:   0%|          | 0/10 [00:00<?, ?it/s]"
      ]
     },
     "metadata": {},
     "output_type": "display_data"
    }
   ],
   "source": [
    "n_nodes = 32\n",
    "batch_size = 32\n",
    "state_dim = 1000\n",
    "epochs = 10\n",
    "\n",
    "num_desired_trajectories=200\n",
    "# choose env from \"random\", \"small world\" or \"dead ends\"\n",
    "env = GraphEnv(n_nodes, env='random')\n",
    "\n",
    "dataset = RandomWalkDataset(env.adj_matrix, batch_size, num_desired_trajectories)\n",
    "dataloader = DataLoader(dataset, batch_size=1, shuffle=True)\n",
    "model = Agent(env.size, env.n_actions, state_dim)\n",
    "\n",
    "\n",
    "loss_record= train_model(model, dataloader, epochs, norm=False)\n"
   ]
  },
  {
   "cell_type": "code",
   "execution_count": 9,
   "id": "544e77ef",
   "metadata": {},
   "outputs": [
    {
     "data": {
      "text/plain": [
       "Text(0.5, 0, 'Number of weight updates')"
      ]
     },
     "execution_count": 9,
     "metadata": {},
     "output_type": "execute_result"
    },
    {
     "data": {
      "image/png": "[encoded data removed]",
      "text/plain": [
       "<Figure size 640x480 with 1 Axes>"
      ]
     },
     "metadata": {},
     "output_type": "display_data"
    }
   ],
   "source": [
    "plt.rcParams['font.size'] = 15\n",
    "plt.figure(dpi=100)\n",
    "plt.plot(loss_record)\n",
    "plt.yscale('log')\n",
    "plt.title('Training loss')\n",
    "plt.xlabel('Number of weight updates')"
   ]
  },
  {
   "cell_type": "code",
   "execution_count": 10,
   "id": "75a495f6",
   "metadata": {},
   "outputs": [
    {
     "name": "stdout",
     "output_type": "stream",
     "text": [
      "CML steps: 3.5690 , Success Rate: 100.0% , Dij steps: 3.3360 , Percentage worse: 6.9844%\n",
      "CML std:  1.7216  Dij std:  1.4653\n"
     ]
    }
   ],
   "source": [
    "test_model(model, env)"
   ]
  },
  {
   "cell_type": "code",
   "execution_count": 11,
   "id": "475d9279",
   "metadata": {
    "scrolled": false
   },
   "outputs": [
    {
     "name": "stderr",
     "output_type": "stream",
     "text": [
      "/home/yukun/anaconda3/lib/python3.9/site-packages/sklearn/manifold/_t_sne.py:982: FutureWarning: The PCA initialization in TSNE will change to have the standard deviation of PC1 equal to 1e-4 in 1.2. This will ensure better convergence.\n",
      "  warnings.warn(\n"
     ]
    },
    {
     "data": {
      "image/png": "[encoded data removed]",
      "text/plain": [
       "<Figure size 500x500 with 1 Axes>"
      ]
     },
     "metadata": {},
     "output_type": "display_data"
    },
    {
     "data": {
      "application/vnd.jupyter.widget-view+json": {
       "model_id": "9b6d64313faa4316842e6b5358d5045a",
       "version_major": 2,
       "version_minor": 0
      },
      "text/plain": [
       "Epochs:   0%|          | 0/20 [00:00<?, ?it/s]"
      ]
     },
     "metadata": {},
     "output_type": "display_data"
    },
    {
     "name": "stderr",
     "output_type": "stream",
     "text": [
      "/home/yukun/anaconda3/lib/python3.9/site-packages/sklearn/manifold/_t_sne.py:982: FutureWarning: The PCA initialization in TSNE will change to have the standard deviation of PC1 equal to 1e-4 in 1.2. This will ensure better convergence.\n",
      "  warnings.warn(\n"
     ]
    },
    {
     "data": {
      "image/png": "[encoded data removed]",
      "text/plain": [
       "<Figure size 500x500 with 1 Axes>"
      ]
     },
     "metadata": {},
     "output_type": "display_data"
    }
   ],
   "source": [
    "plt.rcParams['font.size'] = 28\n",
    "\n",
    "def run_t_sne(model, env, perp=12, early_exaggeration=3, learning_rate=20, start=None, goal=None):\n",
    "    data = model.Q.data.T.cpu().numpy().astype(float)\n",
    "    \n",
    "    N_nodes = env.adj_matrix.cpu().shape[0]\n",
    "    tsne = TSNE(2, perplexity=perp, init='pca',\n",
    "                early_exaggeration=early_exaggeration, learning_rate=learning_rate)\n",
    "    data_2d = tsne.fit_transform(data)\n",
    "    adjacency = env.adj_matrix.cpu().numpy()\n",
    "    if start == goal == None:\n",
    "        G = nx.from_numpy_matrix(adjacency, create_using=nx.Graph())\n",
    "    pos = {}\n",
    "    for i in range(N_nodes):\n",
    "        pos[i] = data_2d[i]\n",
    "\n",
    "    if start!= None and goal!=None:\n",
    "        fig, ax = plt.subplots(figsize=(10,8.5),dpi=300)\n",
    "        G = nx.from_numpy_matrix(adjacency, create_using=nx.DiGraph())\n",
    "        edge_colors = []\n",
    "        do_not_show = []\n",
    "        with torch.no_grad():\n",
    "            delta = model.Q[:,goal] - model.Q[:,start]\n",
    "            utility = model.W@delta\n",
    "            for edge in G.edges:\n",
    "                index = env.dataset.action_indices[(edge[0],edge[1])]\n",
    "                if utility[index]<0:\n",
    "                    do_not_show.append(edge)\n",
    "\n",
    "                else:\n",
    "                    edge_colors.append(utility[index].item())\n",
    "            for edge in do_not_show:\n",
    "                G.remove_edge(edge[0],edge[1])\n",
    "    else:\n",
    "        fig, ax = plt.subplots(figsize=(10,10),dpi=50)\n",
    "    \n",
    "    # Draw nodes\n",
    "    nodelist = list(range(0,N_nodes))\n",
    "    if start != None:\n",
    "        nodelist.remove(start)\n",
    "        nx.draw_networkx_nodes(G, pos, nodelist = [start], node_color='black',\n",
    "                           edgecolors='gray', node_size=1000, linewidths=2)\n",
    "    if goal != None:\n",
    "        nodelist.remove(goal)\n",
    "        nx.draw_networkx_nodes(G, pos, nodelist = [goal], node_color='black', node_shape='*',\n",
    "                           edgecolors='gray', node_size=2000, linewidths=2)\n",
    "        \n",
    "    \n",
    "    \n",
    "    nx.draw_networkx_nodes(G, pos, nodelist = nodelist, node_color='white',\n",
    "                           edgecolors='gray', node_size=500, linewidths=2)\n",
    "    # Draw edges\n",
    "    if start!=None or goal!=None:\n",
    "        nx.draw_networkx_edges(G, pos, edge_color=edge_colors, edge_cmap=plt.cm.rainbow, width=3,arrowsize=25)\n",
    "        sm = plt.cm.ScalarMappable(cmap=plt.cm.rainbow, norm=plt.Normalize(vmin=min(edge_colors), vmax=max(edge_colors)))\n",
    "        sm.set_array([])\n",
    "        cbar = fig.colorbar(sm, ax=ax)\n",
    "    else:\n",
    "        nx.draw_networkx_edges(G, pos, edge_color='black', edge_cmap=plt.cm.rainbow, width=4)\n",
    "    \n",
    "\n",
    "import torch\n",
    "import numpy as np\n",
    "import random\n",
    "\n",
    "def set_seed(seed=42):\n",
    "    torch.manual_seed(seed)\n",
    "    torch.cuda.manual_seed_all(seed)\n",
    "    np.random.seed(seed)\n",
    "    random.seed(seed)\n",
    "    torch.backends.cudnn.deterministic = True\n",
    "    torch.backends.cudnn.benchmark = False\n",
    "    \n",
    "epochs=20\n",
    "state_dim = 1000\n",
    "# Create the extended dataset and dataloader\n",
    "num_desired_trajectories = 200\n",
    "n_nodes = 32\n",
    "batch_size = 32\n",
    "t_sne_learning_rate = 0.5\n",
    "early_exaggeration = 2\n",
    "perp = 16\n",
    "set_seed(0)\n",
    "# torch.cuda.empty_cache()\n",
    "env = GraphEnv(n_nodes)\n",
    "model = Agent(env.size, env.n_actions, state_dim)\n",
    "\n",
    "dataset = RandomWalkDataset(env.adj_matrix, batch_size, num_desired_trajectories)\n",
    "dataloader = DataLoader(dataset, batch_size=1, shuffle=True)  # Each batch is already of size 'batch_size', so DataLoader batch_size=1\n",
    "\n",
    "\n",
    "run_t_sne(model,env,perp,early_exaggeration,t_sne_learning_rate)\n",
    "plt.show()\n",
    "loss_record = train_model(model, dataloader, epochs, norm=False)\n",
    "run_t_sne(model,env,perp,early_exaggeration,t_sne_learning_rate)\n"
   ]
  },
  {
   "cell_type": "code",
   "execution_count": 12,
   "id": "d0d28b68",
   "metadata": {
    "scrolled": true
   },
   "outputs": [
    {
     "data": {
      "application/vnd.jupyter.widget-view+json": {
       "model_id": "71d8c5cf658c432ebaf1594a9e0a7a6b",
       "version_major": 2,
       "version_minor": 0
      },
      "text/plain": [
       "rounds:   0%|          | 0/10 [00:00<?, ?it/s]"
      ]
     },
     "metadata": {},
     "output_type": "display_data"
    },
    {
     "name": "stdout",
     "output_type": "stream",
     "text": [
      "round:  0 state dim:  10\n",
      "without normaliztion on V\n"
     ]
    },
    {
     "data": {
      "application/vnd.jupyter.widget-view+json": {
       "model_id": "8fffe4eed79a4d2180c99f09fc654ccb",
       "version_major": 2,
       "version_minor": 0
      },
      "text/plain": [
       "Epochs:   0%|          | 0/10 [00:00<?, ?it/s]"
      ]
     },
     "metadata": {},
     "output_type": "display_data"
    },
    {
     "name": "stdout",
     "output_type": "stream",
     "text": [
      "with normalization on V\n"
     ]
    },
    {
     "data": {
      "application/vnd.jupyter.widget-view+json": {
       "model_id": "90ece6b8008d4e85897d2553c7a18adf",
       "version_major": 2,
       "version_minor": 0
      },
      "text/plain": [
       "Epochs:   0%|          | 0/10 [00:00<?, ?it/s]"
      ]
     },
     "metadata": {},
     "output_type": "display_data"
    },
    {
     "name": "stdout",
     "output_type": "stream",
     "text": [
      "round:  0 state dim:  20\n",
      "without normaliztion on V\n"
     ]
    },
    {
     "data": {
      "application/vnd.jupyter.widget-view+json": {
       "model_id": "aad40c8875b44593b49ce018db286538",
       "version_major": 2,
       "version_minor": 0
      },
      "text/plain": [
       "Epochs:   0%|          | 0/10 [00:00<?, ?it/s]"
      ]
     },
     "metadata": {},
     "output_type": "display_data"
    },
    {
     "name": "stdout",
     "output_type": "stream",
     "text": [
      "with normalization on V\n"
     ]
    },
    {
     "data": {
      "application/vnd.jupyter.widget-view+json": {
       "model_id": "2dae42920854462fa45d2b3433dcdc85",
       "version_major": 2,
       "version_minor": 0
      },
      "text/plain": [
       "Epochs:   0%|          | 0/10 [00:00<?, ?it/s]"
      ]
     },
     "metadata": {},
     "output_type": "display_data"
    },
    {
     "name": "stdout",
     "output_type": "stream",
     "text": [
      "round:  0 state dim:  50\n",
      "without normaliztion on V\n"
     ]
    },
    {
     "data": {
      "application/vnd.jupyter.widget-view+json": {
       "model_id": "47aaad66cfaf49d386335c38b55f667b",
       "version_major": 2,
       "version_minor": 0
      },
      "text/plain": [
       "Epochs:   0%|          | 0/10 [00:00<?, ?it/s]"
      ]
     },
     "metadata": {},
     "output_type": "display_data"
    },
    {
     "name": "stdout",
     "output_type": "stream",
     "text": [
      "with normalization on V\n"
     ]
    },
    {
     "data": {
      "application/vnd.jupyter.widget-view+json": {
       "model_id": "30027709476948faa12adc6b3feffe24",
       "version_major": 2,
       "version_minor": 0
      },
      "text/plain": [
       "Epochs:   0%|          | 0/10 [00:00<?, ?it/s]"
      ]
     },
     "metadata": {},
     "output_type": "display_data"
    },
    {
     "name": "stdout",
     "output_type": "stream",
     "text": [
      "round:  0 state dim:  100\n",
      "without normaliztion on V\n"
     ]
    },
    {
     "data": {
      "application/vnd.jupyter.widget-view+json": {
       "model_id": "dffcca4d48ea49e09d20eb571e923174",
       "version_major": 2,
       "version_minor": 0
      },
      "text/plain": [
       "Epochs:   0%|          | 0/10 [00:00<?, ?it/s]"
      ]
     },
     "metadata": {},
     "output_type": "display_data"
    },
    {
     "name": "stdout",
     "output_type": "stream",
     "text": [
      "with normalization on V\n"
     ]
    },
    {
     "data": {
      "application/vnd.jupyter.widget-view+json": {
       "model_id": "e218cd84690a45b0b8132503c2fb11ca",
       "version_major": 2,
       "version_minor": 0
      },
      "text/plain": [
       "Epochs:   0%|          | 0/10 [00:00<?, ?it/s]"
      ]
     },
     "metadata": {},
     "output_type": "display_data"
    },
    {
     "name": "stdout",
     "output_type": "stream",
     "text": [
      "round:  0 state dim:  200\n",
      "without normaliztion on V\n"
     ]
    },
    {
     "data": {
      "application/vnd.jupyter.widget-view+json": {
       "model_id": "a5c1ffde2519456eb970ddd6ccb0775a",
       "version_major": 2,
       "version_minor": 0
      },
      "text/plain": [
       "Epochs:   0%|          | 0/10 [00:00<?, ?it/s]"
      ]
     },
     "metadata": {},
     "output_type": "display_data"
    },
    {
     "name": "stdout",
     "output_type": "stream",
     "text": [
      "with normalization on V\n"
     ]
    },
    {
     "data": {
      "application/vnd.jupyter.widget-view+json": {
       "model_id": "73da3d632df643c98407f751e94ee31b",
       "version_major": 2,
       "version_minor": 0
      },
      "text/plain": [
       "Epochs:   0%|          | 0/10 [00:00<?, ?it/s]"
      ]
     },
     "metadata": {},
     "output_type": "display_data"
    },
    {
     "name": "stdout",
     "output_type": "stream",
     "text": [
      "round:  0 state dim:  500\n",
      "without normaliztion on V\n"
     ]
    },
    {
     "data": {
      "application/vnd.jupyter.widget-view+json": {
       "model_id": "35131fb4c95b4e869b4564c04998f56d",
       "version_major": 2,
       "version_minor": 0
      },
      "text/plain": [
       "Epochs:   0%|          | 0/10 [00:00<?, ?it/s]"
      ]
     },
     "metadata": {},
     "output_type": "display_data"
    },
    {
     "name": "stdout",
     "output_type": "stream",
     "text": [
      "with normalization on V\n"
     ]
    },
    {
     "data": {
      "application/vnd.jupyter.widget-view+json": {
       "model_id": "b36e4cca81d648a380933c38e6faefe2",
       "version_major": 2,
       "version_minor": 0
      },
      "text/plain": [
       "Epochs:   0%|          | 0/10 [00:00<?, ?it/s]"
      ]
     },
     "metadata": {},
     "output_type": "display_data"
    },
    {
     "name": "stdout",
     "output_type": "stream",
     "text": [
      "round:  0 state dim:  1000\n",
      "without normaliztion on V\n"
     ]
    },
    {
     "data": {
      "application/vnd.jupyter.widget-view+json": {
       "model_id": "73009df0def64bbd8858c3019527ee27",
       "version_major": 2,
       "version_minor": 0
      },
      "text/plain": [
       "Epochs:   0%|          | 0/10 [00:00<?, ?it/s]"
      ]
     },
     "metadata": {},
     "output_type": "display_data"
    },
    {
     "name": "stdout",
     "output_type": "stream",
     "text": [
      "with normalization on V\n"
     ]
    },
    {
     "data": {
      "application/vnd.jupyter.widget-view+json": {
       "model_id": "2f72e45c677143dbbf8dab3046c664c4",
       "version_major": 2,
       "version_minor": 0
      },
      "text/plain": [
       "Epochs:   0%|          | 0/10 [00:00<?, ?it/s]"
      ]
     },
     "metadata": {},
     "output_type": "display_data"
    },
    {
     "name": "stdout",
     "output_type": "stream",
     "text": [
      "round:  0 state dim:  2000\n",
      "without normaliztion on V\n"
     ]
    },
    {
     "data": {
      "application/vnd.jupyter.widget-view+json": {
       "model_id": "0429f8cbcfca4bffb769b646a6bac478",
       "version_major": 2,
       "version_minor": 0
      },
      "text/plain": [
       "Epochs:   0%|          | 0/10 [00:00<?, ?it/s]"
      ]
     },
     "metadata": {},
     "output_type": "display_data"
    },
    {
     "name": "stdout",
     "output_type": "stream",
     "text": [
      "with normalization on V\n"
     ]
    },
    {
     "data": {
      "application/vnd.jupyter.widget-view+json": {
       "model_id": "6e34e1d251a44ec9aa03c57bb51334ca",
       "version_major": 2,
       "version_minor": 0
      },
      "text/plain": [
       "Epochs:   0%|          | 0/10 [00:00<?, ?it/s]"
      ]
     },
     "metadata": {},
     "output_type": "display_data"
    },
    {
     "name": "stdout",
     "output_type": "stream",
     "text": [
      "round:  0 state dim:  5000\n",
      "without normaliztion on V\n"
     ]
    },
    {
     "data": {
      "application/vnd.jupyter.widget-view+json": {
       "model_id": "94dbcc3a077a4093bf24cfe40030882b",
       "version_major": 2,
       "version_minor": 0
      },
      "text/plain": [
       "Epochs:   0%|          | 0/10 [00:00<?, ?it/s]"
      ]
     },
     "metadata": {},
     "output_type": "display_data"
    },
    {
     "name": "stdout",
     "output_type": "stream",
     "text": [
      "with normalization on V\n"
     ]
    },
    {
     "data": {
      "application/vnd.jupyter.widget-view+json": {
       "model_id": "42f0e78b1187437da9f193b640901068",
       "version_major": 2,
       "version_minor": 0
      },
      "text/plain": [
       "Epochs:   0%|          | 0/10 [00:00<?, ?it/s]"
      ]
     },
     "metadata": {},
     "output_type": "display_data"
    },
    {
     "name": "stdout",
     "output_type": "stream",
     "text": [
      "round:  0 state dim:  10000\n",
      "without normaliztion on V\n"
     ]
    },
    {
     "data": {
      "application/vnd.jupyter.widget-view+json": {
       "model_id": "b1ed76ad60c34b06b360bb15a15e155a",
       "version_major": 2,
       "version_minor": 0
      },
      "text/plain": [
       "Epochs:   0%|          | 0/10 [00:00<?, ?it/s]"
      ]
     },
     "metadata": {},
     "output_type": "display_data"
    },
    {
     "name": "stdout",
     "output_type": "stream",
     "text": [
      "with normalization on V\n"
     ]
    },
    {
     "data": {
      "application/vnd.jupyter.widget-view+json": {
       "model_id": "1b904d8f98d648018ea62859f1b204cf",
       "version_major": 2,
       "version_minor": 0
      },
      "text/plain": [
       "Epochs:   0%|          | 0/10 [00:00<?, ?it/s]"
      ]
     },
     "metadata": {},
     "output_type": "display_data"
    },
    {
     "name": "stdout",
     "output_type": "stream",
     "text": [
      "round:  1 state dim:  10\n",
      "without normaliztion on V\n"
     ]
    },
    {
     "data": {
      "application/vnd.jupyter.widget-view+json": {
       "model_id": "7400af2e7cb64187855aa3b40d2d3051",
       "version_major": 2,
       "version_minor": 0
      },
      "text/plain": [
       "Epochs:   0%|          | 0/10 [00:00<?, ?it/s]"
      ]
     },
     "metadata": {},
     "output_type": "display_data"
    },
    {
     "name": "stdout",
     "output_type": "stream",
     "text": [
      "with normalization on V\n"
     ]
    },
    {
     "data": {
      "application/vnd.jupyter.widget-view+json": {
       "model_id": "1698b628660b4fca89909ac7ecd1e065",
       "version_major": 2,
       "version_minor": 0
      },
      "text/plain": [
       "Epochs:   0%|          | 0/10 [00:00<?, ?it/s]"
      ]
     },
     "metadata": {},
     "output_type": "display_data"
    },
    {
     "name": "stdout",
     "output_type": "stream",
     "text": [
      "round:  1 state dim:  20\n",
      "without normaliztion on V\n"
     ]
    },
    {
     "data": {
      "application/vnd.jupyter.widget-view+json": {
       "model_id": "a64a6aadc32b4172b62c9c7d79547db6",
       "version_major": 2,
       "version_minor": 0
      },
      "text/plain": [
       "Epochs:   0%|          | 0/10 [00:00<?, ?it/s]"
      ]
     },
     "metadata": {},
     "output_type": "display_data"
    },
    {
     "name": "stdout",
     "output_type": "stream",
     "text": [
      "with normalization on V\n"
     ]
    },
    {
     "data": {
      "application/vnd.jupyter.widget-view+json": {
       "model_id": "e852f74075d548d2b0a77361502b39aa",
       "version_major": 2,
       "version_minor": 0
      },
      "text/plain": [
       "Epochs:   0%|          | 0/10 [00:00<?, ?it/s]"
      ]
     },
     "metadata": {},
     "output_type": "display_data"
    },
    {
     "name": "stdout",
     "output_type": "stream",
     "text": [
      "round:  1 state dim:  50\n",
      "without normaliztion on V\n"
     ]
    },
    {
     "data": {
      "application/vnd.jupyter.widget-view+json": {
       "model_id": "4d95174869a64f729e4bcbbc53f403d1",
       "version_major": 2,
       "version_minor": 0
      },
      "text/plain": [
       "Epochs:   0%|          | 0/10 [00:00<?, ?it/s]"
      ]
     },
     "metadata": {},
     "output_type": "display_data"
    },
    {
     "name": "stdout",
     "output_type": "stream",
     "text": [
      "with normalization on V\n"
     ]
    },
    {
     "data": {
      "application/vnd.jupyter.widget-view+json": {
       "model_id": "2de2cb8deea6405090abd74336b8ab5c",
       "version_major": 2,
       "version_minor": 0
      },
      "text/plain": [
       "Epochs:   0%|          | 0/10 [00:00<?, ?it/s]"
      ]
     },
     "metadata": {},
     "output_type": "display_data"
    },
    {
     "name": "stdout",
     "output_type": "stream",
     "text": [
      "round:  1 state dim:  100\n",
      "without normaliztion on V\n"
     ]
    },
    {
     "data": {
      "application/vnd.jupyter.widget-view+json": {
       "model_id": "b6795be4daba428480090bf5902210aa",
       "version_major": 2,
       "version_minor": 0
      },
      "text/plain": [
       "Epochs:   0%|          | 0/10 [00:00<?, ?it/s]"
      ]
     },
     "metadata": {},
     "output_type": "display_data"
    },
    {
     "name": "stdout",
     "output_type": "stream",
     "text": [
      "with normalization on V\n"
     ]
    },
    {
     "data": {
      "application/vnd.jupyter.widget-view+json": {
       "model_id": "09fec33c77b64a47809d61c0ac1105bb",
       "version_major": 2,
       "version_minor": 0
      },
      "text/plain": [
       "Epochs:   0%|          | 0/10 [00:00<?, ?it/s]"
      ]
     },
     "metadata": {},
     "output_type": "display_data"
    },
    {
     "name": "stdout",
     "output_type": "stream",
     "text": [
      "round:  1 state dim:  200\n",
      "without normaliztion on V\n"
     ]
    },
    {
     "data": {
      "application/vnd.jupyter.widget-view+json": {
       "model_id": "b3d2e771097b44eb849ff3ce41f2a307",
       "version_major": 2,
       "version_minor": 0
      },
      "text/plain": [
       "Epochs:   0%|          | 0/10 [00:00<?, ?it/s]"
      ]
     },
     "metadata": {},
     "output_type": "display_data"
    },
    {
     "name": "stdout",
     "output_type": "stream",
     "text": [
      "with normalization on V\n"
     ]
    },
    {
     "data": {
      "application/vnd.jupyter.widget-view+json": {
       "model_id": "714b020181624809b6f41c01d733250d",
       "version_major": 2,
       "version_minor": 0
      },
      "text/plain": [
       "Epochs:   0%|          | 0/10 [00:00<?, ?it/s]"
      ]
     },
     "metadata": {},
     "output_type": "display_data"
    },
    {
     "name": "stdout",
     "output_type": "stream",
     "text": [
      "round:  1 state dim:  500\n",
      "without normaliztion on V\n"
     ]
    },
    {
     "data": {
      "application/vnd.jupyter.widget-view+json": {
       "model_id": "224fff33a588496ab067aa2ccd1e9bdc",
       "version_major": 2,
       "version_minor": 0
      },
      "text/plain": [
       "Epochs:   0%|          | 0/10 [00:00<?, ?it/s]"
      ]
     },
     "metadata": {},
     "output_type": "display_data"
    },
    {
     "name": "stdout",
     "output_type": "stream",
     "text": [
      "with normalization on V\n"
     ]
    },
    {
     "data": {
      "application/vnd.jupyter.widget-view+json": {
       "model_id": "94147c1d4c044f2980318522a5864f35",
       "version_major": 2,
       "version_minor": 0
      },
      "text/plain": [
       "Epochs:   0%|          | 0/10 [00:00<?, ?it/s]"
      ]
     },
     "metadata": {},
     "output_type": "display_data"
    },
    {
     "name": "stdout",
     "output_type": "stream",
     "text": [
      "round:  1 state dim:  1000\n",
      "without normaliztion on V\n"
     ]
    },
    {
     "data": {
      "application/vnd.jupyter.widget-view+json": {
       "model_id": "04fe3fa035e44e6282cbe6807e8e23bd",
       "version_major": 2,
       "version_minor": 0
      },
      "text/plain": [
       "Epochs:   0%|          | 0/10 [00:00<?, ?it/s]"
      ]
     },
     "metadata": {},
     "output_type": "display_data"
    },
    {
     "name": "stdout",
     "output_type": "stream",
     "text": [
      "with normalization on V\n"
     ]
    },
    {
     "data": {
      "application/vnd.jupyter.widget-view+json": {
       "model_id": "2215ab522ec94832be7fc8e343f56d13",
       "version_major": 2,
       "version_minor": 0
      },
      "text/plain": [
       "Epochs:   0%|          | 0/10 [00:00<?, ?it/s]"
      ]
     },
     "metadata": {},
     "output_type": "display_data"
    },
    {
     "name": "stdout",
     "output_type": "stream",
     "text": [
      "round:  1 state dim:  2000\n",
      "without normaliztion on V\n"
     ]
    },
    {
     "data": {
      "application/vnd.jupyter.widget-view+json": {
       "model_id": "93b7a10759ec4939b30f6fd25e6a554e",
       "version_major": 2,
       "version_minor": 0
      },
      "text/plain": [
       "Epochs:   0%|          | 0/10 [00:00<?, ?it/s]"
      ]
     },
     "metadata": {},
     "output_type": "display_data"
    },
    {
     "name": "stdout",
     "output_type": "stream",
     "text": [
      "with normalization on V\n"
     ]
    },
    {
     "data": {
      "application/vnd.jupyter.widget-view+json": {
       "model_id": "2c1e19621916478ebb40f4b69dea214f",
       "version_major": 2,
       "version_minor": 0
      },
      "text/plain": [
       "Epochs:   0%|          | 0/10 [00:00<?, ?it/s]"
      ]
     },
     "metadata": {},
     "output_type": "display_data"
    },
    {
     "name": "stdout",
     "output_type": "stream",
     "text": [
      "round:  1 state dim:  5000\n",
      "without normaliztion on V\n"
     ]
    },
    {
     "data": {
      "application/vnd.jupyter.widget-view+json": {
       "model_id": "7306f3abd5074bbbab589e144c65a60e",
       "version_major": 2,
       "version_minor": 0
      },
      "text/plain": [
       "Epochs:   0%|          | 0/10 [00:00<?, ?it/s]"
      ]
     },
     "metadata": {},
     "output_type": "display_data"
    },
    {
     "name": "stdout",
     "output_type": "stream",
     "text": [
      "with normalization on V\n"
     ]
    },
    {
     "data": {
      "application/vnd.jupyter.widget-view+json": {
       "model_id": "e2d092b7d8dc4b60b0e2bdda40056612",
       "version_major": 2,
       "version_minor": 0
      },
      "text/plain": [
       "Epochs:   0%|          | 0/10 [00:00<?, ?it/s]"
      ]
     },
     "metadata": {},
     "output_type": "display_data"
    },
    {
     "name": "stdout",
     "output_type": "stream",
     "text": [
      "round:  1 state dim:  10000\n",
      "without normaliztion on V\n"
     ]
    },
    {
     "data": {
      "application/vnd.jupyter.widget-view+json": {
       "model_id": "0e69409d6c6c49fea534a1715b1dee7e",
       "version_major": 2,
       "version_minor": 0
      },
      "text/plain": [
       "Epochs:   0%|          | 0/10 [00:00<?, ?it/s]"
      ]
     },
     "metadata": {},
     "output_type": "display_data"
    },
    {
     "name": "stdout",
     "output_type": "stream",
     "text": [
      "with normalization on V\n"
     ]
    },
    {
     "data": {
      "application/vnd.jupyter.widget-view+json": {
       "model_id": "63b4c69f5d264b97b23e6d1abdc10ba6",
       "version_major": 2,
       "version_minor": 0
      },
      "text/plain": [
       "Epochs:   0%|          | 0/10 [00:00<?, ?it/s]"
      ]
     },
     "metadata": {},
     "output_type": "display_data"
    },
    {
     "name": "stdout",
     "output_type": "stream",
     "text": [
      "round:  2 state dim:  10\n",
      "without normaliztion on V\n"
     ]
    },
    {
     "data": {
      "application/vnd.jupyter.widget-view+json": {
       "model_id": "c9cb60fcbb704354aeffebbe46aef06e",
       "version_major": 2,
       "version_minor": 0
      },
      "text/plain": [
       "Epochs:   0%|          | 0/10 [00:00<?, ?it/s]"
      ]
     },
     "metadata": {},
     "output_type": "display_data"
    },
    {
     "name": "stdout",
     "output_type": "stream",
     "text": [
      "with normalization on V\n"
     ]
    },
    {
     "data": {
      "application/vnd.jupyter.widget-view+json": {
       "model_id": "b6f782f3a8c84fbcbb628162b8af80b4",
       "version_major": 2,
       "version_minor": 0
      },
      "text/plain": [
       "Epochs:   0%|          | 0/10 [00:00<?, ?it/s]"
      ]
     },
     "metadata": {},
     "output_type": "display_data"
    },
    {
     "name": "stdout",
     "output_type": "stream",
     "text": [
      "round:  2 state dim:  20\n",
      "without normaliztion on V\n"
     ]
    },
    {
     "data": {
      "application/vnd.jupyter.widget-view+json": {
       "model_id": "456fa09d031b4d2a8745859c3e68d082",
       "version_major": 2,
       "version_minor": 0
      },
      "text/plain": [
       "Epochs:   0%|          | 0/10 [00:00<?, ?it/s]"
      ]
     },
     "metadata": {},
     "output_type": "display_data"
    },
    {
     "name": "stdout",
     "output_type": "stream",
     "text": [
      "with normalization on V\n"
     ]
    },
    {
     "data": {
      "application/vnd.jupyter.widget-view+json": {
       "model_id": "1a6097f15b074290bd02aa409f1c0c88",
       "version_major": 2,
       "version_minor": 0
      },
      "text/plain": [
       "Epochs:   0%|          | 0/10 [00:00<?, ?it/s]"
      ]
     },
     "metadata": {},
     "output_type": "display_data"
    },
    {
     "name": "stdout",
     "output_type": "stream",
     "text": [
      "round:  2 state dim:  50\n",
      "without normaliztion on V\n"
     ]
    },
    {
     "data": {
      "application/vnd.jupyter.widget-view+json": {
       "model_id": "4e284d9b425441d3b058a5802f343fbe",
       "version_major": 2,
       "version_minor": 0
      },
      "text/plain": [
       "Epochs:   0%|          | 0/10 [00:00<?, ?it/s]"
      ]
     },
     "metadata": {},
     "output_type": "display_data"
    },
    {
     "name": "stdout",
     "output_type": "stream",
     "text": [
      "with normalization on V\n"
     ]
    },
    {
     "data": {
      "application/vnd.jupyter.widget-view+json": {
       "model_id": "851b4e63f08f4c70a795a937356edc83",
       "version_major": 2,
       "version_minor": 0
      },
      "text/plain": [
       "Epochs:   0%|          | 0/10 [00:00<?, ?it/s]"
      ]
     },
     "metadata": {},
     "output_type": "display_data"
    },
    {
     "name": "stdout",
     "output_type": "stream",
     "text": [
      "round:  2 state dim:  100\n",
      "without normaliztion on V\n"
     ]
    },
    {
     "data": {
      "application/vnd.jupyter.widget-view+json": {
       "model_id": "df807c3934224d28b17ec3ed65f514f7",
       "version_major": 2,
       "version_minor": 0
      },
      "text/plain": [
       "Epochs:   0%|          | 0/10 [00:00<?, ?it/s]"
      ]
     },
     "metadata": {},
     "output_type": "display_data"
    },
    {
     "name": "stdout",
     "output_type": "stream",
     "text": [
      "with normalization on V\n"
     ]
    },
    {
     "data": {
      "application/vnd.jupyter.widget-view+json": {
       "model_id": "39c4102dc7b6462aa56f0a32d20caa9a",
       "version_major": 2,
       "version_minor": 0
      },
      "text/plain": [
       "Epochs:   0%|          | 0/10 [00:00<?, ?it/s]"
      ]
     },
     "metadata": {},
     "output_type": "display_data"
    },
    {
     "name": "stdout",
     "output_type": "stream",
     "text": [
      "round:  2 state dim:  200\n",
      "without normaliztion on V\n"
     ]
    },
    {
     "data": {
      "application/vnd.jupyter.widget-view+json": {
       "model_id": "da6b6a27faeb4353bb3fa4840294c096",
       "version_major": 2,
       "version_minor": 0
      },
      "text/plain": [
       "Epochs:   0%|          | 0/10 [00:00<?, ?it/s]"
      ]
     },
     "metadata": {},
     "output_type": "display_data"
    },
    {
     "name": "stdout",
     "output_type": "stream",
     "text": [
      "with normalization on V\n"
     ]
    },
    {
     "data": {
      "application/vnd.jupyter.widget-view+json": {
       "model_id": "6db8f0c21ade4822985ecfc20f890034",
       "version_major": 2,
       "version_minor": 0
      },
      "text/plain": [
       "Epochs:   0%|          | 0/10 [00:00<?, ?it/s]"
      ]
     },
     "metadata": {},
     "output_type": "display_data"
    },
    {
     "name": "stdout",
     "output_type": "stream",
     "text": [
      "round:  2 state dim:  500\n",
      "without normaliztion on V\n"
     ]
    },
    {
     "data": {
      "application/vnd.jupyter.widget-view+json": {
       "model_id": "1da7fa39b2e04b7aa4f498f5b3d31fe2",
       "version_major": 2,
       "version_minor": 0
      },
      "text/plain": [
       "Epochs:   0%|          | 0/10 [00:00<?, ?it/s]"
      ]
     },
     "metadata": {},
     "output_type": "display_data"
    },
    {
     "name": "stdout",
     "output_type": "stream",
     "text": [
      "with normalization on V\n"
     ]
    },
    {
     "data": {
      "application/vnd.jupyter.widget-view+json": {
       "model_id": "f3de08fc247d474caabe5a862effebc1",
       "version_major": 2,
       "version_minor": 0
      },
      "text/plain": [
       "Epochs:   0%|          | 0/10 [00:00<?, ?it/s]"
      ]
     },
     "metadata": {},
     "output_type": "display_data"
    },
    {
     "name": "stdout",
     "output_type": "stream",
     "text": [
      "round:  2 state dim:  1000\n",
      "without normaliztion on V\n"
     ]
    },
    {
     "data": {
      "application/vnd.jupyter.widget-view+json": {
       "model_id": "42d9957a5f8340158a83178f5566c55b",
       "version_major": 2,
       "version_minor": 0
      },
      "text/plain": [
       "Epochs:   0%|          | 0/10 [00:00<?, ?it/s]"
      ]
     },
     "metadata": {},
     "output_type": "display_data"
    },
    {
     "name": "stdout",
     "output_type": "stream",
     "text": [
      "with normalization on V\n"
     ]
    },
    {
     "data": {
      "application/vnd.jupyter.widget-view+json": {
       "model_id": "23b7d7a1da5742d6b2c5d5e59cb05efd",
       "version_major": 2,
       "version_minor": 0
      },
      "text/plain": [
       "Epochs:   0%|          | 0/10 [00:00<?, ?it/s]"
      ]
     },
     "metadata": {},
     "output_type": "display_data"
    },
    {
     "name": "stdout",
     "output_type": "stream",
     "text": [
      "round:  2 state dim:  2000\n",
      "without normaliztion on V\n"
     ]
    },
    {
     "data": {
      "application/vnd.jupyter.widget-view+json": {
       "model_id": "e2cbaf6969614c28bf09d42334d530cb",
       "version_major": 2,
       "version_minor": 0
      },
      "text/plain": [
       "Epochs:   0%|          | 0/10 [00:00<?, ?it/s]"
      ]
     },
     "metadata": {},
     "output_type": "display_data"
    },
    {
     "name": "stdout",
     "output_type": "stream",
     "text": [
      "with normalization on V\n"
     ]
    },
    {
     "data": {
      "application/vnd.jupyter.widget-view+json": {
       "model_id": "432bf3a988eb406983d1ae501ed4e52c",
       "version_major": 2,
       "version_minor": 0
      },
      "text/plain": [
       "Epochs:   0%|          | 0/10 [00:00<?, ?it/s]"
      ]
     },
     "metadata": {},
     "output_type": "display_data"
    },
    {
     "name": "stdout",
     "output_type": "stream",
     "text": [
      "round:  2 state dim:  5000\n",
      "without normaliztion on V\n"
     ]
    },
    {
     "data": {
      "application/vnd.jupyter.widget-view+json": {
       "model_id": "6ce7f50560474c1aa4f241a0b1ead39f",
       "version_major": 2,
       "version_minor": 0
      },
      "text/plain": [
       "Epochs:   0%|          | 0/10 [00:00<?, ?it/s]"
      ]
     },
     "metadata": {},
     "output_type": "display_data"
    },
    {
     "name": "stdout",
     "output_type": "stream",
     "text": [
      "with normalization on V\n"
     ]
    },
    {
     "data": {
      "application/vnd.jupyter.widget-view+json": {
       "model_id": "9f546bec8f68459092a779f343c76402",
       "version_major": 2,
       "version_minor": 0
      },
      "text/plain": [
       "Epochs:   0%|          | 0/10 [00:00<?, ?it/s]"
      ]
     },
     "metadata": {},
     "output_type": "display_data"
    },
    {
     "name": "stdout",
     "output_type": "stream",
     "text": [
      "round:  2 state dim:  10000\n",
      "without normaliztion on V\n"
     ]
    },
    {
     "data": {
      "application/vnd.jupyter.widget-view+json": {
       "model_id": "2fd291434cf64211ae43610ea56cdd77",
       "version_major": 2,
       "version_minor": 0
      },
      "text/plain": [
       "Epochs:   0%|          | 0/10 [00:00<?, ?it/s]"
      ]
     },
     "metadata": {},
     "output_type": "display_data"
    },
    {
     "name": "stdout",
     "output_type": "stream",
     "text": [
      "with normalization on V\n"
     ]
    },
    {
     "data": {
      "application/vnd.jupyter.widget-view+json": {
       "model_id": "73c75ea64ce84cae8a07201c08a82662",
       "version_major": 2,
       "version_minor": 0
      },
      "text/plain": [
       "Epochs:   0%|          | 0/10 [00:00<?, ?it/s]"
      ]
     },
     "metadata": {},
     "output_type": "display_data"
    },
    {
     "name": "stdout",
     "output_type": "stream",
     "text": [
      "round:  3 state dim:  10\n",
      "without normaliztion on V\n"
     ]
    },
    {
     "data": {
      "application/vnd.jupyter.widget-view+json": {
       "model_id": "86ae33d7c44942b7927c6f780b3a3de3",
       "version_major": 2,
       "version_minor": 0
      },
      "text/plain": [
       "Epochs:   0%|          | 0/10 [00:00<?, ?it/s]"
      ]
     },
     "metadata": {},
     "output_type": "display_data"
    },
    {
     "name": "stdout",
     "output_type": "stream",
     "text": [
      "with normalization on V\n"
     ]
    },
    {
     "data": {
      "application/vnd.jupyter.widget-view+json": {
       "model_id": "abbd222f57d146069abdf352aef6c0e4",
       "version_major": 2,
       "version_minor": 0
      },
      "text/plain": [
       "Epochs:   0%|          | 0/10 [00:00<?, ?it/s]"
      ]
     },
     "metadata": {},
     "output_type": "display_data"
    },
    {
     "name": "stdout",
     "output_type": "stream",
     "text": [
      "round:  3 state dim:  20\n",
      "without normaliztion on V\n"
     ]
    },
    {
     "data": {
      "application/vnd.jupyter.widget-view+json": {
       "model_id": "3f2d0d641d2a42278d2bd599a1156df3",
       "version_major": 2,
       "version_minor": 0
      },
      "text/plain": [
       "Epochs:   0%|          | 0/10 [00:00<?, ?it/s]"
      ]
     },
     "metadata": {},
     "output_type": "display_data"
    },
    {
     "name": "stdout",
     "output_type": "stream",
     "text": [
      "with normalization on V\n"
     ]
    },
    {
     "data": {
      "application/vnd.jupyter.widget-view+json": {
       "model_id": "fd3ed0961aa74cbead11afb6627bc72f",
       "version_major": 2,
       "version_minor": 0
      },
      "text/plain": [
       "Epochs:   0%|          | 0/10 [00:00<?, ?it/s]"
      ]
     },
     "metadata": {},
     "output_type": "display_data"
    },
    {
     "name": "stdout",
     "output_type": "stream",
     "text": [
      "round:  3 state dim:  50\n",
      "without normaliztion on V\n"
     ]
    },
    {
     "data": {
      "application/vnd.jupyter.widget-view+json": {
       "model_id": "0be4c88a0ede4d329e473b7ce750f616",
       "version_major": 2,
       "version_minor": 0
      },
      "text/plain": [
       "Epochs:   0%|          | 0/10 [00:00<?, ?it/s]"
      ]
     },
     "metadata": {},
     "output_type": "display_data"
    },
    {
     "name": "stdout",
     "output_type": "stream",
     "text": [
      "with normalization on V\n"
     ]
    },
    {
     "data": {
      "application/vnd.jupyter.widget-view+json": {
       "model_id": "ac15de2f98aa43d283f5bf9cab0b15fc",
       "version_major": 2,
       "version_minor": 0
      },
      "text/plain": [
       "Epochs:   0%|          | 0/10 [00:00<?, ?it/s]"
      ]
     },
     "metadata": {},
     "output_type": "display_data"
    },
    {
     "name": "stdout",
     "output_type": "stream",
     "text": [
      "round:  3 state dim:  100\n",
      "without normaliztion on V\n"
     ]
    },
    {
     "data": {
      "application/vnd.jupyter.widget-view+json": {
       "model_id": "e7277984cbce44d3b976ab2d3ee2fe20",
       "version_major": 2,
       "version_minor": 0
      },
      "text/plain": [
       "Epochs:   0%|          | 0/10 [00:00<?, ?it/s]"
      ]
     },
     "metadata": {},
     "output_type": "display_data"
    },
    {
     "name": "stdout",
     "output_type": "stream",
     "text": [
      "with normalization on V\n"
     ]
    },
    {
     "data": {
      "application/vnd.jupyter.widget-view+json": {
       "model_id": "ee1a723e38134751b53a6ca745aa8637",
       "version_major": 2,
       "version_minor": 0
      },
      "text/plain": [
       "Epochs:   0%|          | 0/10 [00:00<?, ?it/s]"
      ]
     },
     "metadata": {},
     "output_type": "display_data"
    },
    {
     "name": "stdout",
     "output_type": "stream",
     "text": [
      "round:  3 state dim:  200\n",
      "without normaliztion on V\n"
     ]
    },
    {
     "data": {
      "application/vnd.jupyter.widget-view+json": {
       "model_id": "ae3e510900aa411db5940fbedf48e683",
       "version_major": 2,
       "version_minor": 0
      },
      "text/plain": [
       "Epochs:   0%|          | 0/10 [00:00<?, ?it/s]"
      ]
     },
     "metadata": {},
     "output_type": "display_data"
    },
    {
     "name": "stdout",
     "output_type": "stream",
     "text": [
      "with normalization on V\n"
     ]
    },
    {
     "data": {
      "application/vnd.jupyter.widget-view+json": {
       "model_id": "585d7bcac56f4418b66db17e79d7c2d9",
       "version_major": 2,
       "version_minor": 0
      },
      "text/plain": [
       "Epochs:   0%|          | 0/10 [00:00<?, ?it/s]"
      ]
     },
     "metadata": {},
     "output_type": "display_data"
    },
    {
     "name": "stdout",
     "output_type": "stream",
     "text": [
      "round:  3 state dim:  500\n",
      "without normaliztion on V\n"
     ]
    },
    {
     "data": {
      "application/vnd.jupyter.widget-view+json": {
       "model_id": "cac9cc906f3c46ad9ecfb0dc2d3a8f97",
       "version_major": 2,
       "version_minor": 0
      },
      "text/plain": [
       "Epochs:   0%|          | 0/10 [00:00<?, ?it/s]"
      ]
     },
     "metadata": {},
     "output_type": "display_data"
    },
    {
     "name": "stdout",
     "output_type": "stream",
     "text": [
      "with normalization on V\n"
     ]
    },
    {
     "data": {
      "application/vnd.jupyter.widget-view+json": {
       "model_id": "d36b2dcf33d140ddbe823c59c6ce47a1",
       "version_major": 2,
       "version_minor": 0
      },
      "text/plain": [
       "Epochs:   0%|          | 0/10 [00:00<?, ?it/s]"
      ]
     },
     "metadata": {},
     "output_type": "display_data"
    },
    {
     "name": "stdout",
     "output_type": "stream",
     "text": [
      "round:  3 state dim:  1000\n",
      "without normaliztion on V\n"
     ]
    },
    {
     "data": {
      "application/vnd.jupyter.widget-view+json": {
       "model_id": "10167646e927457084e5c526c29567c2",
       "version_major": 2,
       "version_minor": 0
      },
      "text/plain": [
       "Epochs:   0%|          | 0/10 [00:00<?, ?it/s]"
      ]
     },
     "metadata": {},
     "output_type": "display_data"
    },
    {
     "name": "stdout",
     "output_type": "stream",
     "text": [
      "with normalization on V\n"
     ]
    },
    {
     "data": {
      "application/vnd.jupyter.widget-view+json": {
       "model_id": "7bef5582eea94dd394787f3904ab3bba",
       "version_major": 2,
       "version_minor": 0
      },
      "text/plain": [
       "Epochs:   0%|          | 0/10 [00:00<?, ?it/s]"
      ]
     },
     "metadata": {},
     "output_type": "display_data"
    },
    {
     "name": "stdout",
     "output_type": "stream",
     "text": [
      "round:  3 state dim:  2000\n",
      "without normaliztion on V\n"
     ]
    },
    {
     "data": {
      "application/vnd.jupyter.widget-view+json": {
       "model_id": "662412151b2d4505a0c7ca62494e74c4",
       "version_major": 2,
       "version_minor": 0
      },
      "text/plain": [
       "Epochs:   0%|          | 0/10 [00:00<?, ?it/s]"
      ]
     },
     "metadata": {},
     "output_type": "display_data"
    },
    {
     "name": "stdout",
     "output_type": "stream",
     "text": [
      "with normalization on V\n"
     ]
    },
    {
     "data": {
      "application/vnd.jupyter.widget-view+json": {
       "model_id": "f6814cd017a344c89c658a813aa7f721",
       "version_major": 2,
       "version_minor": 0
      },
      "text/plain": [
       "Epochs:   0%|          | 0/10 [00:00<?, ?it/s]"
      ]
     },
     "metadata": {},
     "output_type": "display_data"
    },
    {
     "name": "stdout",
     "output_type": "stream",
     "text": [
      "round:  3 state dim:  5000\n",
      "without normaliztion on V\n"
     ]
    },
    {
     "data": {
      "application/vnd.jupyter.widget-view+json": {
       "model_id": "56ff6a69e1d7404491a9ec297ba47ad8",
       "version_major": 2,
       "version_minor": 0
      },
      "text/plain": [
       "Epochs:   0%|          | 0/10 [00:00<?, ?it/s]"
      ]
     },
     "metadata": {},
     "output_type": "display_data"
    },
    {
     "name": "stdout",
     "output_type": "stream",
     "text": [
      "with normalization on V\n"
     ]
    },
    {
     "data": {
      "application/vnd.jupyter.widget-view+json": {
       "model_id": "22b9d8f60242404882154662382d45db",
       "version_major": 2,
       "version_minor": 0
      },
      "text/plain": [
       "Epochs:   0%|          | 0/10 [00:00<?, ?it/s]"
      ]
     },
     "metadata": {},
     "output_type": "display_data"
    },
    {
     "name": "stdout",
     "output_type": "stream",
     "text": [
      "round:  3 state dim:  10000\n",
      "without normaliztion on V\n"
     ]
    },
    {
     "data": {
      "application/vnd.jupyter.widget-view+json": {
       "model_id": "eca3e9da13f247c093967d26b81eba2a",
       "version_major": 2,
       "version_minor": 0
      },
      "text/plain": [
       "Epochs:   0%|          | 0/10 [00:00<?, ?it/s]"
      ]
     },
     "metadata": {},
     "output_type": "display_data"
    },
    {
     "name": "stdout",
     "output_type": "stream",
     "text": [
      "with normalization on V\n"
     ]
    },
    {
     "data": {
      "application/vnd.jupyter.widget-view+json": {
       "model_id": "ea1a02993f224371b92115dd3adce3dc",
       "version_major": 2,
       "version_minor": 0
      },
      "text/plain": [
       "Epochs:   0%|          | 0/10 [00:00<?, ?it/s]"
      ]
     },
     "metadata": {},
     "output_type": "display_data"
    },
    {
     "name": "stdout",
     "output_type": "stream",
     "text": [
      "round:  4 state dim:  10\n",
      "without normaliztion on V\n"
     ]
    },
    {
     "data": {
      "application/vnd.jupyter.widget-view+json": {
       "model_id": "43e2ca64e01248edb3380b33d822608e",
       "version_major": 2,
       "version_minor": 0
      },
      "text/plain": [
       "Epochs:   0%|          | 0/10 [00:00<?, ?it/s]"
      ]
     },
     "metadata": {},
     "output_type": "display_data"
    },
    {
     "name": "stdout",
     "output_type": "stream",
     "text": [
      "with normalization on V\n"
     ]
    },
    {
     "data": {
      "application/vnd.jupyter.widget-view+json": {
       "model_id": "7eafb29527344a099594f054b37417b7",
       "version_major": 2,
       "version_minor": 0
      },
      "text/plain": [
       "Epochs:   0%|          | 0/10 [00:00<?, ?it/s]"
      ]
     },
     "metadata": {},
     "output_type": "display_data"
    },
    {
     "name": "stdout",
     "output_type": "stream",
     "text": [
      "round:  4 state dim:  20\n",
      "without normaliztion on V\n"
     ]
    },
    {
     "data": {
      "application/vnd.jupyter.widget-view+json": {
       "model_id": "2b4446c4ed6e41b8ab7c5d498b9f9112",
       "version_major": 2,
       "version_minor": 0
      },
      "text/plain": [
       "Epochs:   0%|          | 0/10 [00:00<?, ?it/s]"
      ]
     },
     "metadata": {},
     "output_type": "display_data"
    },
    {
     "name": "stdout",
     "output_type": "stream",
     "text": [
      "with normalization on V\n"
     ]
    },
    {
     "data": {
      "application/vnd.jupyter.widget-view+json": {
       "model_id": "c7057d6581b846a892f32f090e014a00",
       "version_major": 2,
       "version_minor": 0
      },
      "text/plain": [
       "Epochs:   0%|          | 0/10 [00:00<?, ?it/s]"
      ]
     },
     "metadata": {},
     "output_type": "display_data"
    },
    {
     "name": "stdout",
     "output_type": "stream",
     "text": [
      "round:  4 state dim:  50\n",
      "without normaliztion on V\n"
     ]
    },
    {
     "data": {
      "application/vnd.jupyter.widget-view+json": {
       "model_id": "1302b38f2fa44e7e92b772e87abf4e30",
       "version_major": 2,
       "version_minor": 0
      },
      "text/plain": [
       "Epochs:   0%|          | 0/10 [00:00<?, ?it/s]"
      ]
     },
     "metadata": {},
     "output_type": "display_data"
    },
    {
     "name": "stdout",
     "output_type": "stream",
     "text": [
      "with normalization on V\n"
     ]
    },
    {
     "data": {
      "application/vnd.jupyter.widget-view+json": {
       "model_id": "f1b5706706ef404ba4adbc75dca4dc95",
       "version_major": 2,
       "version_minor": 0
      },
      "text/plain": [
       "Epochs:   0%|          | 0/10 [00:00<?, ?it/s]"
      ]
     },
     "metadata": {},
     "output_type": "display_data"
    },
    {
     "name": "stdout",
     "output_type": "stream",
     "text": [
      "round:  4 state dim:  100\n",
      "without normaliztion on V\n"
     ]
    },
    {
     "data": {
      "application/vnd.jupyter.widget-view+json": {
       "model_id": "6d09ca1912ea4dc4a806b5d6233ab437",
       "version_major": 2,
       "version_minor": 0
      },
      "text/plain": [
       "Epochs:   0%|          | 0/10 [00:00<?, ?it/s]"
      ]
     },
     "metadata": {},
     "output_type": "display_data"
    },
    {
     "name": "stdout",
     "output_type": "stream",
     "text": [
      "with normalization on V\n"
     ]
    },
    {
     "data": {
      "application/vnd.jupyter.widget-view+json": {
       "model_id": "0a5d069844794b6aba3c030dc86f1154",
       "version_major": 2,
       "version_minor": 0
      },
      "text/plain": [
       "Epochs:   0%|          | 0/10 [00:00<?, ?it/s]"
      ]
     },
     "metadata": {},
     "output_type": "display_data"
    },
    {
     "name": "stdout",
     "output_type": "stream",
     "text": [
      "round:  4 state dim:  200\n",
      "without normaliztion on V\n"
     ]
    },
    {
     "data": {
      "application/vnd.jupyter.widget-view+json": {
       "model_id": "43e0b1a4324c4410af432122b4278e1f",
       "version_major": 2,
       "version_minor": 0
      },
      "text/plain": [
       "Epochs:   0%|          | 0/10 [00:00<?, ?it/s]"
      ]
     },
     "metadata": {},
     "output_type": "display_data"
    },
    {
     "name": "stdout",
     "output_type": "stream",
     "text": [
      "with normalization on V\n"
     ]
    },
    {
     "data": {
      "application/vnd.jupyter.widget-view+json": {
       "model_id": "a0d30d2e4b9446c983e6e39e8c34a56f",
       "version_major": 2,
       "version_minor": 0
      },
      "text/plain": [
       "Epochs:   0%|          | 0/10 [00:00<?, ?it/s]"
      ]
     },
     "metadata": {},
     "output_type": "display_data"
    },
    {
     "name": "stdout",
     "output_type": "stream",
     "text": [
      "round:  4 state dim:  500\n",
      "without normaliztion on V\n"
     ]
    },
    {
     "data": {
      "application/vnd.jupyter.widget-view+json": {
       "model_id": "043c1a8d846942d6951c12dc2d35e22e",
       "version_major": 2,
       "version_minor": 0
      },
      "text/plain": [
       "Epochs:   0%|          | 0/10 [00:00<?, ?it/s]"
      ]
     },
     "metadata": {},
     "output_type": "display_data"
    },
    {
     "name": "stdout",
     "output_type": "stream",
     "text": [
      "with normalization on V\n"
     ]
    },
    {
     "data": {
      "application/vnd.jupyter.widget-view+json": {
       "model_id": "e736652d7f9f43e28ad5909630e0900c",
       "version_major": 2,
       "version_minor": 0
      },
      "text/plain": [
       "Epochs:   0%|          | 0/10 [00:00<?, ?it/s]"
      ]
     },
     "metadata": {},
     "output_type": "display_data"
    },
    {
     "name": "stdout",
     "output_type": "stream",
     "text": [
      "round:  4 state dim:  1000\n",
      "without normaliztion on V\n"
     ]
    },
    {
     "data": {
      "application/vnd.jupyter.widget-view+json": {
       "model_id": "2843a09ead544c43a2e0d2c1d860e58b",
       "version_major": 2,
       "version_minor": 0
      },
      "text/plain": [
       "Epochs:   0%|          | 0/10 [00:00<?, ?it/s]"
      ]
     },
     "metadata": {},
     "output_type": "display_data"
    },
    {
     "name": "stdout",
     "output_type": "stream",
     "text": [
      "with normalization on V\n"
     ]
    },
    {
     "data": {
      "application/vnd.jupyter.widget-view+json": {
       "model_id": "1fef67074a524f488975fa75679b8fdb",
       "version_major": 2,
       "version_minor": 0
      },
      "text/plain": [
       "Epochs:   0%|          | 0/10 [00:00<?, ?it/s]"
      ]
     },
     "metadata": {},
     "output_type": "display_data"
    },
    {
     "name": "stdout",
     "output_type": "stream",
     "text": [
      "round:  4 state dim:  2000\n",
      "without normaliztion on V\n"
     ]
    },
    {
     "data": {
      "application/vnd.jupyter.widget-view+json": {
       "model_id": "cc75ad36254b4d90be663646a4c906d3",
       "version_major": 2,
       "version_minor": 0
      },
      "text/plain": [
       "Epochs:   0%|          | 0/10 [00:00<?, ?it/s]"
      ]
     },
     "metadata": {},
     "output_type": "display_data"
    },
    {
     "name": "stdout",
     "output_type": "stream",
     "text": [
      "with normalization on V\n"
     ]
    },
    {
     "data": {
      "application/vnd.jupyter.widget-view+json": {
       "model_id": "b61a6ba8aa2444b0936dc3ebb82b3ed5",
       "version_major": 2,
       "version_minor": 0
      },
      "text/plain": [
       "Epochs:   0%|          | 0/10 [00:00<?, ?it/s]"
      ]
     },
     "metadata": {},
     "output_type": "display_data"
    },
    {
     "name": "stdout",
     "output_type": "stream",
     "text": [
      "round:  4 state dim:  5000\n",
      "without normaliztion on V\n"
     ]
    },
    {
     "data": {
      "application/vnd.jupyter.widget-view+json": {
       "model_id": "4dbe3b9d85b947c9a8baa17a2973afc7",
       "version_major": 2,
       "version_minor": 0
      },
      "text/plain": [
       "Epochs:   0%|          | 0/10 [00:00<?, ?it/s]"
      ]
     },
     "metadata": {},
     "output_type": "display_data"
    },
    {
     "name": "stdout",
     "output_type": "stream",
     "text": [
      "with normalization on V\n"
     ]
    },
    {
     "data": {
      "application/vnd.jupyter.widget-view+json": {
       "model_id": "6603ea0dfc3c4fc49b512312b6e0c17f",
       "version_major": 2,
       "version_minor": 0
      },
      "text/plain": [
       "Epochs:   0%|          | 0/10 [00:00<?, ?it/s]"
      ]
     },
     "metadata": {},
     "output_type": "display_data"
    },
    {
     "name": "stdout",
     "output_type": "stream",
     "text": [
      "round:  4 state dim:  10000\n",
      "without normaliztion on V\n"
     ]
    },
    {
     "data": {
      "application/vnd.jupyter.widget-view+json": {
       "model_id": "198027e1122b466094651d9c8e9014c4",
       "version_major": 2,
       "version_minor": 0
      },
      "text/plain": [
       "Epochs:   0%|          | 0/10 [00:00<?, ?it/s]"
      ]
     },
     "metadata": {},
     "output_type": "display_data"
    },
    {
     "name": "stdout",
     "output_type": "stream",
     "text": [
      "with normalization on V\n"
     ]
    },
    {
     "data": {
      "application/vnd.jupyter.widget-view+json": {
       "model_id": "7444563d7d3e449e89b92481b3301c3a",
       "version_major": 2,
       "version_minor": 0
      },
      "text/plain": [
       "Epochs:   0%|          | 0/10 [00:00<?, ?it/s]"
      ]
     },
     "metadata": {},
     "output_type": "display_data"
    },
    {
     "name": "stdout",
     "output_type": "stream",
     "text": [
      "round:  5 state dim:  10\n",
      "without normaliztion on V\n"
     ]
    },
    {
     "data": {
      "application/vnd.jupyter.widget-view+json": {
       "model_id": "be99901ac9fd4c22905edf93d939e72f",
       "version_major": 2,
       "version_minor": 0
      },
      "text/plain": [
       "Epochs:   0%|          | 0/10 [00:00<?, ?it/s]"
      ]
     },
     "metadata": {},
     "output_type": "display_data"
    },
    {
     "name": "stdout",
     "output_type": "stream",
     "text": [
      "with normalization on V\n"
     ]
    },
    {
     "data": {
      "application/vnd.jupyter.widget-view+json": {
       "model_id": "6b4032afd3dd45cd853f61a923d7e79f",
       "version_major": 2,
       "version_minor": 0
      },
      "text/plain": [
       "Epochs:   0%|          | 0/10 [00:00<?, ?it/s]"
      ]
     },
     "metadata": {},
     "output_type": "display_data"
    },
    {
     "name": "stdout",
     "output_type": "stream",
     "text": [
      "round:  5 state dim:  20\n",
      "without normaliztion on V\n"
     ]
    },
    {
     "data": {
      "application/vnd.jupyter.widget-view+json": {
       "model_id": "c12f515c6e5b4812b9a2f9b658ce3772",
       "version_major": 2,
       "version_minor": 0
      },
      "text/plain": [
       "Epochs:   0%|          | 0/10 [00:00<?, ?it/s]"
      ]
     },
     "metadata": {},
     "output_type": "display_data"
    },
    {
     "name": "stdout",
     "output_type": "stream",
     "text": [
      "with normalization on V\n"
     ]
    },
    {
     "data": {
      "application/vnd.jupyter.widget-view+json": {
       "model_id": "d7c96c4ded1a441fb3e1eb10802495fe",
       "version_major": 2,
       "version_minor": 0
      },
      "text/plain": [
       "Epochs:   0%|          | 0/10 [00:00<?, ?it/s]"
      ]
     },
     "metadata": {},
     "output_type": "display_data"
    },
    {
     "name": "stdout",
     "output_type": "stream",
     "text": [
      "round:  5 state dim:  50\n",
      "without normaliztion on V\n"
     ]
    },
    {
     "data": {
      "application/vnd.jupyter.widget-view+json": {
       "model_id": "96d6e4c3a5434ef6818fec812c45f6ba",
       "version_major": 2,
       "version_minor": 0
      },
      "text/plain": [
       "Epochs:   0%|          | 0/10 [00:00<?, ?it/s]"
      ]
     },
     "metadata": {},
     "output_type": "display_data"
    },
    {
     "name": "stdout",
     "output_type": "stream",
     "text": [
      "with normalization on V\n"
     ]
    },
    {
     "data": {
      "application/vnd.jupyter.widget-view+json": {
       "model_id": "09e0506316534e709c8c8e32b276f0da",
       "version_major": 2,
       "version_minor": 0
      },
      "text/plain": [
       "Epochs:   0%|          | 0/10 [00:00<?, ?it/s]"
      ]
     },
     "metadata": {},
     "output_type": "display_data"
    },
    {
     "name": "stdout",
     "output_type": "stream",
     "text": [
      "round:  5 state dim:  100\n",
      "without normaliztion on V\n"
     ]
    },
    {
     "data": {
      "application/vnd.jupyter.widget-view+json": {
       "model_id": "0e8ac7a0c6e0465db4503fb1bfdf20fa",
       "version_major": 2,
       "version_minor": 0
      },
      "text/plain": [
       "Epochs:   0%|          | 0/10 [00:00<?, ?it/s]"
      ]
     },
     "metadata": {},
     "output_type": "display_data"
    },
    {
     "name": "stdout",
     "output_type": "stream",
     "text": [
      "with normalization on V\n"
     ]
    },
    {
     "data": {
      "application/vnd.jupyter.widget-view+json": {
       "model_id": "109f62bafb71489f90e3f7dfa8f2f897",
       "version_major": 2,
       "version_minor": 0
      },
      "text/plain": [
       "Epochs:   0%|          | 0/10 [00:00<?, ?it/s]"
      ]
     },
     "metadata": {},
     "output_type": "display_data"
    },
    {
     "name": "stdout",
     "output_type": "stream",
     "text": [
      "round:  5 state dim:  200\n",
      "without normaliztion on V\n"
     ]
    },
    {
     "data": {
      "application/vnd.jupyter.widget-view+json": {
       "model_id": "4ecb51f5f9aa407fbae0b46277177d6a",
       "version_major": 2,
       "version_minor": 0
      },
      "text/plain": [
       "Epochs:   0%|          | 0/10 [00:00<?, ?it/s]"
      ]
     },
     "metadata": {},
     "output_type": "display_data"
    },
    {
     "name": "stdout",
     "output_type": "stream",
     "text": [
      "with normalization on V\n"
     ]
    },
    {
     "data": {
      "application/vnd.jupyter.widget-view+json": {
       "model_id": "0ca972ec86d14540b52ef29c934413bc",
       "version_major": 2,
       "version_minor": 0
      },
      "text/plain": [
       "Epochs:   0%|          | 0/10 [00:00<?, ?it/s]"
      ]
     },
     "metadata": {},
     "output_type": "display_data"
    },
    {
     "name": "stdout",
     "output_type": "stream",
     "text": [
      "round:  5 state dim:  500\n",
      "without normaliztion on V\n"
     ]
    },
    {
     "data": {
      "application/vnd.jupyter.widget-view+json": {
       "model_id": "a1d92947f53041f5b933fede8562aa5d",
       "version_major": 2,
       "version_minor": 0
      },
      "text/plain": [
       "Epochs:   0%|          | 0/10 [00:00<?, ?it/s]"
      ]
     },
     "metadata": {},
     "output_type": "display_data"
    },
    {
     "name": "stdout",
     "output_type": "stream",
     "text": [
      "with normalization on V\n"
     ]
    },
    {
     "data": {
      "application/vnd.jupyter.widget-view+json": {
       "model_id": "af31a10485e9496cb1840c7aae675c4f",
       "version_major": 2,
       "version_minor": 0
      },
      "text/plain": [
       "Epochs:   0%|          | 0/10 [00:00<?, ?it/s]"
      ]
     },
     "metadata": {},
     "output_type": "display_data"
    },
    {
     "name": "stdout",
     "output_type": "stream",
     "text": [
      "round:  5 state dim:  1000\n",
      "without normaliztion on V\n"
     ]
    },
    {
     "data": {
      "application/vnd.jupyter.widget-view+json": {
       "model_id": "f112c597df5c4d7aa4a3972905f40293",
       "version_major": 2,
       "version_minor": 0
      },
      "text/plain": [
       "Epochs:   0%|          | 0/10 [00:00<?, ?it/s]"
      ]
     },
     "metadata": {},
     "output_type": "display_data"
    },
    {
     "name": "stdout",
     "output_type": "stream",
     "text": [
      "with normalization on V\n"
     ]
    },
    {
     "data": {
      "application/vnd.jupyter.widget-view+json": {
       "model_id": "ca5c82580db54d6eb0079e954318b2cb",
       "version_major": 2,
       "version_minor": 0
      },
      "text/plain": [
       "Epochs:   0%|          | 0/10 [00:00<?, ?it/s]"
      ]
     },
     "metadata": {},
     "output_type": "display_data"
    },
    {
     "name": "stdout",
     "output_type": "stream",
     "text": [
      "round:  5 state dim:  2000\n",
      "without normaliztion on V\n"
     ]
    },
    {
     "data": {
      "application/vnd.jupyter.widget-view+json": {
       "model_id": "1bdc647bf0a44930b5171afccfb924a8",
       "version_major": 2,
       "version_minor": 0
      },
      "text/plain": [
       "Epochs:   0%|          | 0/10 [00:00<?, ?it/s]"
      ]
     },
     "metadata": {},
     "output_type": "display_data"
    },
    {
     "name": "stdout",
     "output_type": "stream",
     "text": [
      "with normalization on V\n"
     ]
    },
    {
     "data": {
      "application/vnd.jupyter.widget-view+json": {
       "model_id": "7a5258d484324cab99b86f0cfea135cc",
       "version_major": 2,
       "version_minor": 0
      },
      "text/plain": [
       "Epochs:   0%|          | 0/10 [00:00<?, ?it/s]"
      ]
     },
     "metadata": {},
     "output_type": "display_data"
    },
    {
     "name": "stdout",
     "output_type": "stream",
     "text": [
      "round:  5 state dim:  5000\n",
      "without normaliztion on V\n"
     ]
    },
    {
     "data": {
      "application/vnd.jupyter.widget-view+json": {
       "model_id": "d7133721ca9d4acf8b169c5cac24ff18",
       "version_major": 2,
       "version_minor": 0
      },
      "text/plain": [
       "Epochs:   0%|          | 0/10 [00:00<?, ?it/s]"
      ]
     },
     "metadata": {},
     "output_type": "display_data"
    },
    {
     "name": "stdout",
     "output_type": "stream",
     "text": [
      "with normalization on V\n"
     ]
    },
    {
     "data": {
      "application/vnd.jupyter.widget-view+json": {
       "model_id": "e7d0c53168544ba08fa3e8371ae9d694",
       "version_major": 2,
       "version_minor": 0
      },
      "text/plain": [
       "Epochs:   0%|          | 0/10 [00:00<?, ?it/s]"
      ]
     },
     "metadata": {},
     "output_type": "display_data"
    },
    {
     "name": "stdout",
     "output_type": "stream",
     "text": [
      "round:  5 state dim:  10000\n",
      "without normaliztion on V\n"
     ]
    },
    {
     "data": {
      "application/vnd.jupyter.widget-view+json": {
       "model_id": "3a54091d91f64135be24926d621adf82",
       "version_major": 2,
       "version_minor": 0
      },
      "text/plain": [
       "Epochs:   0%|          | 0/10 [00:00<?, ?it/s]"
      ]
     },
     "metadata": {},
     "output_type": "display_data"
    },
    {
     "name": "stdout",
     "output_type": "stream",
     "text": [
      "with normalization on V\n"
     ]
    },
    {
     "data": {
      "application/vnd.jupyter.widget-view+json": {
       "model_id": "f0faee8888694875b1c091209b3442e3",
       "version_major": 2,
       "version_minor": 0
      },
      "text/plain": [
       "Epochs:   0%|          | 0/10 [00:00<?, ?it/s]"
      ]
     },
     "metadata": {},
     "output_type": "display_data"
    },
    {
     "name": "stdout",
     "output_type": "stream",
     "text": [
      "round:  6 state dim:  10\n",
      "without normaliztion on V\n"
     ]
    },
    {
     "data": {
      "application/vnd.jupyter.widget-view+json": {
       "model_id": "0e085f74ae36419aafe48e41264b5f08",
       "version_major": 2,
       "version_minor": 0
      },
      "text/plain": [
       "Epochs:   0%|          | 0/10 [00:00<?, ?it/s]"
      ]
     },
     "metadata": {},
     "output_type": "display_data"
    },
    {
     "name": "stdout",
     "output_type": "stream",
     "text": [
      "with normalization on V\n"
     ]
    },
    {
     "data": {
      "application/vnd.jupyter.widget-view+json": {
       "model_id": "aafd90cf776143b7a31be1f4d055d300",
       "version_major": 2,
       "version_minor": 0
      },
      "text/plain": [
       "Epochs:   0%|          | 0/10 [00:00<?, ?it/s]"
      ]
     },
     "metadata": {},
     "output_type": "display_data"
    },
    {
     "name": "stdout",
     "output_type": "stream",
     "text": [
      "round:  6 state dim:  20\n",
      "without normaliztion on V\n"
     ]
    },
    {
     "data": {
      "application/vnd.jupyter.widget-view+json": {
       "model_id": "349b916493e44a649ab0b8defaa87c06",
       "version_major": 2,
       "version_minor": 0
      },
      "text/plain": [
       "Epochs:   0%|          | 0/10 [00:00<?, ?it/s]"
      ]
     },
     "metadata": {},
     "output_type": "display_data"
    },
    {
     "name": "stdout",
     "output_type": "stream",
     "text": [
      "with normalization on V\n"
     ]
    },
    {
     "data": {
      "application/vnd.jupyter.widget-view+json": {
       "model_id": "37ba2f427ea748e5bdf580b25dfeea5d",
       "version_major": 2,
       "version_minor": 0
      },
      "text/plain": [
       "Epochs:   0%|          | 0/10 [00:00<?, ?it/s]"
      ]
     },
     "metadata": {},
     "output_type": "display_data"
    },
    {
     "name": "stdout",
     "output_type": "stream",
     "text": [
      "round:  6 state dim:  50\n",
      "without normaliztion on V\n"
     ]
    },
    {
     "data": {
      "application/vnd.jupyter.widget-view+json": {
       "model_id": "b3c05323a06d4e63ae2c36a7ee3c383e",
       "version_major": 2,
       "version_minor": 0
      },
      "text/plain": [
       "Epochs:   0%|          | 0/10 [00:00<?, ?it/s]"
      ]
     },
     "metadata": {},
     "output_type": "display_data"
    },
    {
     "name": "stdout",
     "output_type": "stream",
     "text": [
      "with normalization on V\n"
     ]
    },
    {
     "data": {
      "application/vnd.jupyter.widget-view+json": {
       "model_id": "2e7f3ed2c526453896a67d653120bd81",
       "version_major": 2,
       "version_minor": 0
      },
      "text/plain": [
       "Epochs:   0%|          | 0/10 [00:00<?, ?it/s]"
      ]
     },
     "metadata": {},
     "output_type": "display_data"
    },
    {
     "name": "stdout",
     "output_type": "stream",
     "text": [
      "round:  6 state dim:  100\n",
      "without normaliztion on V\n"
     ]
    },
    {
     "data": {
      "application/vnd.jupyter.widget-view+json": {
       "model_id": "3be0ffba2f834fc59ecac0a35e3c9abc",
       "version_major": 2,
       "version_minor": 0
      },
      "text/plain": [
       "Epochs:   0%|          | 0/10 [00:00<?, ?it/s]"
      ]
     },
     "metadata": {},
     "output_type": "display_data"
    },
    {
     "name": "stdout",
     "output_type": "stream",
     "text": [
      "with normalization on V\n"
     ]
    },
    {
     "data": {
      "application/vnd.jupyter.widget-view+json": {
       "model_id": "76af1e289b404577bcd1f102e0f46a38",
       "version_major": 2,
       "version_minor": 0
      },
      "text/plain": [
       "Epochs:   0%|          | 0/10 [00:00<?, ?it/s]"
      ]
     },
     "metadata": {},
     "output_type": "display_data"
    },
    {
     "name": "stdout",
     "output_type": "stream",
     "text": [
      "round:  6 state dim:  200\n",
      "without normaliztion on V\n"
     ]
    },
    {
     "data": {
      "application/vnd.jupyter.widget-view+json": {
       "model_id": "dce948d64c184aa489414520c257b1ce",
       "version_major": 2,
       "version_minor": 0
      },
      "text/plain": [
       "Epochs:   0%|          | 0/10 [00:00<?, ?it/s]"
      ]
     },
     "metadata": {},
     "output_type": "display_data"
    },
    {
     "name": "stdout",
     "output_type": "stream",
     "text": [
      "with normalization on V\n"
     ]
    },
    {
     "data": {
      "application/vnd.jupyter.widget-view+json": {
       "model_id": "c571d90c69224bde9b2261ee61f9ee1d",
       "version_major": 2,
       "version_minor": 0
      },
      "text/plain": [
       "Epochs:   0%|          | 0/10 [00:00<?, ?it/s]"
      ]
     },
     "metadata": {},
     "output_type": "display_data"
    },
    {
     "name": "stdout",
     "output_type": "stream",
     "text": [
      "round:  6 state dim:  500\n",
      "without normaliztion on V\n"
     ]
    },
    {
     "data": {
      "application/vnd.jupyter.widget-view+json": {
       "model_id": "17417e7309264973818df46af7bd350a",
       "version_major": 2,
       "version_minor": 0
      },
      "text/plain": [
       "Epochs:   0%|          | 0/10 [00:00<?, ?it/s]"
      ]
     },
     "metadata": {},
     "output_type": "display_data"
    },
    {
     "name": "stdout",
     "output_type": "stream",
     "text": [
      "with normalization on V\n"
     ]
    },
    {
     "data": {
      "application/vnd.jupyter.widget-view+json": {
       "model_id": "6720c29c75034d1ea9364d741aa1c5f2",
       "version_major": 2,
       "version_minor": 0
      },
      "text/plain": [
       "Epochs:   0%|          | 0/10 [00:00<?, ?it/s]"
      ]
     },
     "metadata": {},
     "output_type": "display_data"
    },
    {
     "name": "stdout",
     "output_type": "stream",
     "text": [
      "round:  6 state dim:  1000\n",
      "without normaliztion on V\n"
     ]
    },
    {
     "data": {
      "application/vnd.jupyter.widget-view+json": {
       "model_id": "1edb717917ea4c4797f0161b6b8bec65",
       "version_major": 2,
       "version_minor": 0
      },
      "text/plain": [
       "Epochs:   0%|          | 0/10 [00:00<?, ?it/s]"
      ]
     },
     "metadata": {},
     "output_type": "display_data"
    },
    {
     "name": "stdout",
     "output_type": "stream",
     "text": [
      "with normalization on V\n"
     ]
    },
    {
     "data": {
      "application/vnd.jupyter.widget-view+json": {
       "model_id": "2659fcb483374927918bc0ae79b710f2",
       "version_major": 2,
       "version_minor": 0
      },
      "text/plain": [
       "Epochs:   0%|          | 0/10 [00:00<?, ?it/s]"
      ]
     },
     "metadata": {},
     "output_type": "display_data"
    },
    {
     "name": "stdout",
     "output_type": "stream",
     "text": [
      "round:  6 state dim:  2000\n",
      "without normaliztion on V\n"
     ]
    },
    {
     "data": {
      "application/vnd.jupyter.widget-view+json": {
       "model_id": "d7d9fb9597a243448fa37883a6de1171",
       "version_major": 2,
       "version_minor": 0
      },
      "text/plain": [
       "Epochs:   0%|          | 0/10 [00:00<?, ?it/s]"
      ]
     },
     "metadata": {},
     "output_type": "display_data"
    },
    {
     "name": "stdout",
     "output_type": "stream",
     "text": [
      "with normalization on V\n"
     ]
    },
    {
     "data": {
      "application/vnd.jupyter.widget-view+json": {
       "model_id": "f4d134ca53b741718f30128215a88910",
       "version_major": 2,
       "version_minor": 0
      },
      "text/plain": [
       "Epochs:   0%|          | 0/10 [00:00<?, ?it/s]"
      ]
     },
     "metadata": {},
     "output_type": "display_data"
    },
    {
     "name": "stdout",
     "output_type": "stream",
     "text": [
      "round:  6 state dim:  5000\n",
      "without normaliztion on V\n"
     ]
    },
    {
     "data": {
      "application/vnd.jupyter.widget-view+json": {
       "model_id": "1d1f37e335d7496dbc02eba5b9066489",
       "version_major": 2,
       "version_minor": 0
      },
      "text/plain": [
       "Epochs:   0%|          | 0/10 [00:00<?, ?it/s]"
      ]
     },
     "metadata": {},
     "output_type": "display_data"
    },
    {
     "name": "stdout",
     "output_type": "stream",
     "text": [
      "with normalization on V\n"
     ]
    },
    {
     "data": {
      "application/vnd.jupyter.widget-view+json": {
       "model_id": "d40cc787d6194877b3586cb3f456489d",
       "version_major": 2,
       "version_minor": 0
      },
      "text/plain": [
       "Epochs:   0%|          | 0/10 [00:00<?, ?it/s]"
      ]
     },
     "metadata": {},
     "output_type": "display_data"
    },
    {
     "name": "stdout",
     "output_type": "stream",
     "text": [
      "round:  6 state dim:  10000\n",
      "without normaliztion on V\n"
     ]
    },
    {
     "data": {
      "application/vnd.jupyter.widget-view+json": {
       "model_id": "0a3e7e3c8d3746ea86111c72241f736d",
       "version_major": 2,
       "version_minor": 0
      },
      "text/plain": [
       "Epochs:   0%|          | 0/10 [00:00<?, ?it/s]"
      ]
     },
     "metadata": {},
     "output_type": "display_data"
    },
    {
     "name": "stdout",
     "output_type": "stream",
     "text": [
      "with normalization on V\n"
     ]
    },
    {
     "data": {
      "application/vnd.jupyter.widget-view+json": {
       "model_id": "2568323e60a44b7598f5d9d25db3bc7e",
       "version_major": 2,
       "version_minor": 0
      },
      "text/plain": [
       "Epochs:   0%|          | 0/10 [00:00<?, ?it/s]"
      ]
     },
     "metadata": {},
     "output_type": "display_data"
    },
    {
     "name": "stdout",
     "output_type": "stream",
     "text": [
      "round:  7 state dim:  10\n",
      "without normaliztion on V\n"
     ]
    },
    {
     "data": {
      "application/vnd.jupyter.widget-view+json": {
       "model_id": "3d85ddbd580543c6bf43fe9b844f53ea",
       "version_major": 2,
       "version_minor": 0
      },
      "text/plain": [
       "Epochs:   0%|          | 0/10 [00:00<?, ?it/s]"
      ]
     },
     "metadata": {},
     "output_type": "display_data"
    },
    {
     "name": "stdout",
     "output_type": "stream",
     "text": [
      "with normalization on V\n"
     ]
    },
    {
     "data": {
      "application/vnd.jupyter.widget-view+json": {
       "model_id": "cbe79f55ec2f49f0a3674153fd31926e",
       "version_major": 2,
       "version_minor": 0
      },
      "text/plain": [
       "Epochs:   0%|          | 0/10 [00:00<?, ?it/s]"
      ]
     },
     "metadata": {},
     "output_type": "display_data"
    },
    {
     "name": "stdout",
     "output_type": "stream",
     "text": [
      "round:  7 state dim:  20\n",
      "without normaliztion on V\n"
     ]
    },
    {
     "data": {
      "application/vnd.jupyter.widget-view+json": {
       "model_id": "918dac361edf4070b191cb883918862c",
       "version_major": 2,
       "version_minor": 0
      },
      "text/plain": [
       "Epochs:   0%|          | 0/10 [00:00<?, ?it/s]"
      ]
     },
     "metadata": {},
     "output_type": "display_data"
    },
    {
     "name": "stdout",
     "output_type": "stream",
     "text": [
      "with normalization on V\n"
     ]
    },
    {
     "data": {
      "application/vnd.jupyter.widget-view+json": {
       "model_id": "170c686dabbd4858aa15c7e24ce510ea",
       "version_major": 2,
       "version_minor": 0
      },
      "text/plain": [
       "Epochs:   0%|          | 0/10 [00:00<?, ?it/s]"
      ]
     },
     "metadata": {},
     "output_type": "display_data"
    },
    {
     "name": "stdout",
     "output_type": "stream",
     "text": [
      "round:  7 state dim:  50\n",
      "without normaliztion on V\n"
     ]
    },
    {
     "data": {
      "application/vnd.jupyter.widget-view+json": {
       "model_id": "396c53f18cec4d559a45640a6c4d06f8",
       "version_major": 2,
       "version_minor": 0
      },
      "text/plain": [
       "Epochs:   0%|          | 0/10 [00:00<?, ?it/s]"
      ]
     },
     "metadata": {},
     "output_type": "display_data"
    },
    {
     "name": "stdout",
     "output_type": "stream",
     "text": [
      "with normalization on V\n"
     ]
    },
    {
     "data": {
      "application/vnd.jupyter.widget-view+json": {
       "model_id": "3cd46b514c4a4035b30ab7dc38fede5a",
       "version_major": 2,
       "version_minor": 0
      },
      "text/plain": [
       "Epochs:   0%|          | 0/10 [00:00<?, ?it/s]"
      ]
     },
     "metadata": {},
     "output_type": "display_data"
    },
    {
     "name": "stdout",
     "output_type": "stream",
     "text": [
      "round:  7 state dim:  100\n",
      "without normaliztion on V\n"
     ]
    },
    {
     "data": {
      "application/vnd.jupyter.widget-view+json": {
       "model_id": "19e8ff57d3c442f980ba410d972f0d22",
       "version_major": 2,
       "version_minor": 0
      },
      "text/plain": [
       "Epochs:   0%|          | 0/10 [00:00<?, ?it/s]"
      ]
     },
     "metadata": {},
     "output_type": "display_data"
    },
    {
     "name": "stdout",
     "output_type": "stream",
     "text": [
      "with normalization on V\n"
     ]
    },
    {
     "data": {
      "application/vnd.jupyter.widget-view+json": {
       "model_id": "07d9a1b98e1748b2a9637395854d043d",
       "version_major": 2,
       "version_minor": 0
      },
      "text/plain": [
       "Epochs:   0%|          | 0/10 [00:00<?, ?it/s]"
      ]
     },
     "metadata": {},
     "output_type": "display_data"
    },
    {
     "name": "stdout",
     "output_type": "stream",
     "text": [
      "round:  7 state dim:  200\n",
      "without normaliztion on V\n"
     ]
    },
    {
     "data": {
      "application/vnd.jupyter.widget-view+json": {
       "model_id": "dac9c266136f4f12a4983729aceaaab4",
       "version_major": 2,
       "version_minor": 0
      },
      "text/plain": [
       "Epochs:   0%|          | 0/10 [00:00<?, ?it/s]"
      ]
     },
     "metadata": {},
     "output_type": "display_data"
    },
    {
     "name": "stdout",
     "output_type": "stream",
     "text": [
      "with normalization on V\n"
     ]
    },
    {
     "data": {
      "application/vnd.jupyter.widget-view+json": {
       "model_id": "994ed4cef7b344e1b2839f2f1c580b34",
       "version_major": 2,
       "version_minor": 0
      },
      "text/plain": [
       "Epochs:   0%|          | 0/10 [00:00<?, ?it/s]"
      ]
     },
     "metadata": {},
     "output_type": "display_data"
    },
    {
     "name": "stdout",
     "output_type": "stream",
     "text": [
      "round:  7 state dim:  500\n",
      "without normaliztion on V\n"
     ]
    },
    {
     "data": {
      "application/vnd.jupyter.widget-view+json": {
       "model_id": "febe381b13b04198a9e043c2239fddd8",
       "version_major": 2,
       "version_minor": 0
      },
      "text/plain": [
       "Epochs:   0%|          | 0/10 [00:00<?, ?it/s]"
      ]
     },
     "metadata": {},
     "output_type": "display_data"
    },
    {
     "name": "stdout",
     "output_type": "stream",
     "text": [
      "with normalization on V\n"
     ]
    },
    {
     "data": {
      "application/vnd.jupyter.widget-view+json": {
       "model_id": "3cfa001ca3ea4da89c5aa0600e8f2d32",
       "version_major": 2,
       "version_minor": 0
      },
      "text/plain": [
       "Epochs:   0%|          | 0/10 [00:00<?, ?it/s]"
      ]
     },
     "metadata": {},
     "output_type": "display_data"
    },
    {
     "name": "stdout",
     "output_type": "stream",
     "text": [
      "round:  7 state dim:  1000\n",
      "without normaliztion on V\n"
     ]
    },
    {
     "data": {
      "application/vnd.jupyter.widget-view+json": {
       "model_id": "d83c9cd2bad64fcc960d8de596fc1f1a",
       "version_major": 2,
       "version_minor": 0
      },
      "text/plain": [
       "Epochs:   0%|          | 0/10 [00:00<?, ?it/s]"
      ]
     },
     "metadata": {},
     "output_type": "display_data"
    },
    {
     "name": "stdout",
     "output_type": "stream",
     "text": [
      "with normalization on V\n"
     ]
    },
    {
     "data": {
      "application/vnd.jupyter.widget-view+json": {
       "model_id": "d6322a0855c74eba8f669b6cf2109380",
       "version_major": 2,
       "version_minor": 0
      },
      "text/plain": [
       "Epochs:   0%|          | 0/10 [00:00<?, ?it/s]"
      ]
     },
     "metadata": {},
     "output_type": "display_data"
    },
    {
     "name": "stdout",
     "output_type": "stream",
     "text": [
      "round:  7 state dim:  2000\n",
      "without normaliztion on V\n"
     ]
    },
    {
     "data": {
      "application/vnd.jupyter.widget-view+json": {
       "model_id": "c06f7daf2176405bb34101cdf1ea6aa4",
       "version_major": 2,
       "version_minor": 0
      },
      "text/plain": [
       "Epochs:   0%|          | 0/10 [00:00<?, ?it/s]"
      ]
     },
     "metadata": {},
     "output_type": "display_data"
    },
    {
     "name": "stdout",
     "output_type": "stream",
     "text": [
      "with normalization on V\n"
     ]
    },
    {
     "data": {
      "application/vnd.jupyter.widget-view+json": {
       "model_id": "d5bc410a66564a2da9d028c09e98bde2",
       "version_major": 2,
       "version_minor": 0
      },
      "text/plain": [
       "Epochs:   0%|          | 0/10 [00:00<?, ?it/s]"
      ]
     },
     "metadata": {},
     "output_type": "display_data"
    },
    {
     "name": "stdout",
     "output_type": "stream",
     "text": [
      "round:  7 state dim:  5000\n",
      "without normaliztion on V\n"
     ]
    },
    {
     "data": {
      "application/vnd.jupyter.widget-view+json": {
       "model_id": "12ebd59d60da4e749b9e885ad860a1ae",
       "version_major": 2,
       "version_minor": 0
      },
      "text/plain": [
       "Epochs:   0%|          | 0/10 [00:00<?, ?it/s]"
      ]
     },
     "metadata": {},
     "output_type": "display_data"
    },
    {
     "name": "stdout",
     "output_type": "stream",
     "text": [
      "with normalization on V\n"
     ]
    },
    {
     "data": {
      "application/vnd.jupyter.widget-view+json": {
       "model_id": "112ce2e2d5c8444cb5e1a3b0482f5b2e",
       "version_major": 2,
       "version_minor": 0
      },
      "text/plain": [
       "Epochs:   0%|          | 0/10 [00:00<?, ?it/s]"
      ]
     },
     "metadata": {},
     "output_type": "display_data"
    },
    {
     "name": "stdout",
     "output_type": "stream",
     "text": [
      "round:  7 state dim:  10000\n",
      "without normaliztion on V\n"
     ]
    },
    {
     "data": {
      "application/vnd.jupyter.widget-view+json": {
       "model_id": "bf75654d57504a3aa143d14eecaadc98",
       "version_major": 2,
       "version_minor": 0
      },
      "text/plain": [
       "Epochs:   0%|          | 0/10 [00:00<?, ?it/s]"
      ]
     },
     "metadata": {},
     "output_type": "display_data"
    },
    {
     "name": "stdout",
     "output_type": "stream",
     "text": [
      "with normalization on V\n"
     ]
    },
    {
     "data": {
      "application/vnd.jupyter.widget-view+json": {
       "model_id": "f01be5fec2304f3eb96db2c2610b3f50",
       "version_major": 2,
       "version_minor": 0
      },
      "text/plain": [
       "Epochs:   0%|          | 0/10 [00:00<?, ?it/s]"
      ]
     },
     "metadata": {},
     "output_type": "display_data"
    },
    {
     "name": "stdout",
     "output_type": "stream",
     "text": [
      "round:  8 state dim:  10\n",
      "without normaliztion on V\n"
     ]
    },
    {
     "data": {
      "application/vnd.jupyter.widget-view+json": {
       "model_id": "34260a813019453cb261ba9ed87f2f46",
       "version_major": 2,
       "version_minor": 0
      },
      "text/plain": [
       "Epochs:   0%|          | 0/10 [00:00<?, ?it/s]"
      ]
     },
     "metadata": {},
     "output_type": "display_data"
    },
    {
     "name": "stdout",
     "output_type": "stream",
     "text": [
      "with normalization on V\n"
     ]
    },
    {
     "data": {
      "application/vnd.jupyter.widget-view+json": {
       "model_id": "82c30669c2a24b97871106fc64fb49af",
       "version_major": 2,
       "version_minor": 0
      },
      "text/plain": [
       "Epochs:   0%|          | 0/10 [00:00<?, ?it/s]"
      ]
     },
     "metadata": {},
     "output_type": "display_data"
    },
    {
     "name": "stdout",
     "output_type": "stream",
     "text": [
      "round:  8 state dim:  20\n",
      "without normaliztion on V\n"
     ]
    },
    {
     "data": {
      "application/vnd.jupyter.widget-view+json": {
       "model_id": "0be60daa8ffa4ec88f07e6503ac59455",
       "version_major": 2,
       "version_minor": 0
      },
      "text/plain": [
       "Epochs:   0%|          | 0/10 [00:00<?, ?it/s]"
      ]
     },
     "metadata": {},
     "output_type": "display_data"
    },
    {
     "name": "stdout",
     "output_type": "stream",
     "text": [
      "with normalization on V\n"
     ]
    },
    {
     "data": {
      "application/vnd.jupyter.widget-view+json": {
       "model_id": "756c8e373faf4f21a9dc76ed956a90c2",
       "version_major": 2,
       "version_minor": 0
      },
      "text/plain": [
       "Epochs:   0%|          | 0/10 [00:00<?, ?it/s]"
      ]
     },
     "metadata": {},
     "output_type": "display_data"
    },
    {
     "name": "stdout",
     "output_type": "stream",
     "text": [
      "round:  8 state dim:  50\n",
      "without normaliztion on V\n"
     ]
    },
    {
     "data": {
      "application/vnd.jupyter.widget-view+json": {
       "model_id": "d2148d9a898842d395b582d245604023",
       "version_major": 2,
       "version_minor": 0
      },
      "text/plain": [
       "Epochs:   0%|          | 0/10 [00:00<?, ?it/s]"
      ]
     },
     "metadata": {},
     "output_type": "display_data"
    },
    {
     "name": "stdout",
     "output_type": "stream",
     "text": [
      "with normalization on V\n"
     ]
    },
    {
     "data": {
      "application/vnd.jupyter.widget-view+json": {
       "model_id": "32a277e7b47d42ae8113f03369042cbd",
       "version_major": 2,
       "version_minor": 0
      },
      "text/plain": [
       "Epochs:   0%|          | 0/10 [00:00<?, ?it/s]"
      ]
     },
     "metadata": {},
     "output_type": "display_data"
    },
    {
     "name": "stdout",
     "output_type": "stream",
     "text": [
      "round:  8 state dim:  100\n",
      "without normaliztion on V\n"
     ]
    },
    {
     "data": {
      "application/vnd.jupyter.widget-view+json": {
       "model_id": "a2aaa56fc9f14f50abd0bddf0ab2ebc9",
       "version_major": 2,
       "version_minor": 0
      },
      "text/plain": [
       "Epochs:   0%|          | 0/10 [00:00<?, ?it/s]"
      ]
     },
     "metadata": {},
     "output_type": "display_data"
    },
    {
     "name": "stdout",
     "output_type": "stream",
     "text": [
      "with normalization on V\n"
     ]
    },
    {
     "data": {
      "application/vnd.jupyter.widget-view+json": {
       "model_id": "a0f53b63c2a84256a773b9689f2f13c6",
       "version_major": 2,
       "version_minor": 0
      },
      "text/plain": [
       "Epochs:   0%|          | 0/10 [00:00<?, ?it/s]"
      ]
     },
     "metadata": {},
     "output_type": "display_data"
    },
    {
     "name": "stdout",
     "output_type": "stream",
     "text": [
      "round:  8 state dim:  200\n",
      "without normaliztion on V\n"
     ]
    },
    {
     "data": {
      "application/vnd.jupyter.widget-view+json": {
       "model_id": "92d93bbada6c45ad881c4eaf9b7729ef",
       "version_major": 2,
       "version_minor": 0
      },
      "text/plain": [
       "Epochs:   0%|          | 0/10 [00:00<?, ?it/s]"
      ]
     },
     "metadata": {},
     "output_type": "display_data"
    },
    {
     "name": "stdout",
     "output_type": "stream",
     "text": [
      "with normalization on V\n"
     ]
    },
    {
     "data": {
      "application/vnd.jupyter.widget-view+json": {
       "model_id": "def2bfff327044b6b8cc8537825cd1e6",
       "version_major": 2,
       "version_minor": 0
      },
      "text/plain": [
       "Epochs:   0%|          | 0/10 [00:00<?, ?it/s]"
      ]
     },
     "metadata": {},
     "output_type": "display_data"
    },
    {
     "name": "stdout",
     "output_type": "stream",
     "text": [
      "round:  8 state dim:  500\n",
      "without normaliztion on V\n"
     ]
    },
    {
     "data": {
      "application/vnd.jupyter.widget-view+json": {
       "model_id": "3adf74e3e89941f1a21de7ee447ce56b",
       "version_major": 2,
       "version_minor": 0
      },
      "text/plain": [
       "Epochs:   0%|          | 0/10 [00:00<?, ?it/s]"
      ]
     },
     "metadata": {},
     "output_type": "display_data"
    },
    {
     "name": "stdout",
     "output_type": "stream",
     "text": [
      "with normalization on V\n"
     ]
    },
    {
     "data": {
      "application/vnd.jupyter.widget-view+json": {
       "model_id": "da276c6a4cea480b9ba970f639f9f0d3",
       "version_major": 2,
       "version_minor": 0
      },
      "text/plain": [
       "Epochs:   0%|          | 0/10 [00:00<?, ?it/s]"
      ]
     },
     "metadata": {},
     "output_type": "display_data"
    },
    {
     "name": "stdout",
     "output_type": "stream",
     "text": [
      "round:  8 state dim:  1000\n",
      "without normaliztion on V\n"
     ]
    },
    {
     "data": {
      "application/vnd.jupyter.widget-view+json": {
       "model_id": "c30460ea61a641638886c4cfd99788af",
       "version_major": 2,
       "version_minor": 0
      },
      "text/plain": [
       "Epochs:   0%|          | 0/10 [00:00<?, ?it/s]"
      ]
     },
     "metadata": {},
     "output_type": "display_data"
    },
    {
     "name": "stdout",
     "output_type": "stream",
     "text": [
      "with normalization on V\n"
     ]
    },
    {
     "data": {
      "application/vnd.jupyter.widget-view+json": {
       "model_id": "c9a51c2fc9b74105b286fea42e12373c",
       "version_major": 2,
       "version_minor": 0
      },
      "text/plain": [
       "Epochs:   0%|          | 0/10 [00:00<?, ?it/s]"
      ]
     },
     "metadata": {},
     "output_type": "display_data"
    },
    {
     "name": "stdout",
     "output_type": "stream",
     "text": [
      "round:  8 state dim:  2000\n",
      "without normaliztion on V\n"
     ]
    },
    {
     "data": {
      "application/vnd.jupyter.widget-view+json": {
       "model_id": "af93f12eb3644b5b8d8cb45bb02e5613",
       "version_major": 2,
       "version_minor": 0
      },
      "text/plain": [
       "Epochs:   0%|          | 0/10 [00:00<?, ?it/s]"
      ]
     },
     "metadata": {},
     "output_type": "display_data"
    },
    {
     "name": "stdout",
     "output_type": "stream",
     "text": [
      "with normalization on V\n"
     ]
    },
    {
     "data": {
      "application/vnd.jupyter.widget-view+json": {
       "model_id": "de2d1ec7de914f7db13e6180d77302d2",
       "version_major": 2,
       "version_minor": 0
      },
      "text/plain": [
       "Epochs:   0%|          | 0/10 [00:00<?, ?it/s]"
      ]
     },
     "metadata": {},
     "output_type": "display_data"
    },
    {
     "name": "stdout",
     "output_type": "stream",
     "text": [
      "round:  8 state dim:  5000\n",
      "without normaliztion on V\n"
     ]
    },
    {
     "data": {
      "application/vnd.jupyter.widget-view+json": {
       "model_id": "a72418e78ad3443591413f25120d0b8d",
       "version_major": 2,
       "version_minor": 0
      },
      "text/plain": [
       "Epochs:   0%|          | 0/10 [00:00<?, ?it/s]"
      ]
     },
     "metadata": {},
     "output_type": "display_data"
    },
    {
     "name": "stdout",
     "output_type": "stream",
     "text": [
      "with normalization on V\n"
     ]
    },
    {
     "data": {
      "application/vnd.jupyter.widget-view+json": {
       "model_id": "1549472afd7143efa721592d760331ca",
       "version_major": 2,
       "version_minor": 0
      },
      "text/plain": [
       "Epochs:   0%|          | 0/10 [00:00<?, ?it/s]"
      ]
     },
     "metadata": {},
     "output_type": "display_data"
    },
    {
     "name": "stdout",
     "output_type": "stream",
     "text": [
      "round:  8 state dim:  10000\n",
      "without normaliztion on V\n"
     ]
    },
    {
     "data": {
      "application/vnd.jupyter.widget-view+json": {
       "model_id": "242a3d64153f483cb146fd7651cf202e",
       "version_major": 2,
       "version_minor": 0
      },
      "text/plain": [
       "Epochs:   0%|          | 0/10 [00:00<?, ?it/s]"
      ]
     },
     "metadata": {},
     "output_type": "display_data"
    },
    {
     "name": "stdout",
     "output_type": "stream",
     "text": [
      "with normalization on V\n"
     ]
    },
    {
     "data": {
      "application/vnd.jupyter.widget-view+json": {
       "model_id": "47471abc69fd4761857e69dba1001454",
       "version_major": 2,
       "version_minor": 0
      },
      "text/plain": [
       "Epochs:   0%|          | 0/10 [00:00<?, ?it/s]"
      ]
     },
     "metadata": {},
     "output_type": "display_data"
    },
    {
     "name": "stdout",
     "output_type": "stream",
     "text": [
      "round:  9 state dim:  10\n",
      "without normaliztion on V\n"
     ]
    },
    {
     "data": {
      "application/vnd.jupyter.widget-view+json": {
       "model_id": "d5f722b5ca0648e5981e91fd4787eedb",
       "version_major": 2,
       "version_minor": 0
      },
      "text/plain": [
       "Epochs:   0%|          | 0/10 [00:00<?, ?it/s]"
      ]
     },
     "metadata": {},
     "output_type": "display_data"
    },
    {
     "name": "stdout",
     "output_type": "stream",
     "text": [
      "with normalization on V\n"
     ]
    },
    {
     "data": {
      "application/vnd.jupyter.widget-view+json": {
       "model_id": "fd1a776e68734d73acd67d76f0e887a2",
       "version_major": 2,
       "version_minor": 0
      },
      "text/plain": [
       "Epochs:   0%|          | 0/10 [00:00<?, ?it/s]"
      ]
     },
     "metadata": {},
     "output_type": "display_data"
    },
    {
     "name": "stdout",
     "output_type": "stream",
     "text": [
      "round:  9 state dim:  20\n",
      "without normaliztion on V\n"
     ]
    },
    {
     "data": {
      "application/vnd.jupyter.widget-view+json": {
       "model_id": "47552b9dd1c1426fb9f9056c485d59bc",
       "version_major": 2,
       "version_minor": 0
      },
      "text/plain": [
       "Epochs:   0%|          | 0/10 [00:00<?, ?it/s]"
      ]
     },
     "metadata": {},
     "output_type": "display_data"
    },
    {
     "name": "stdout",
     "output_type": "stream",
     "text": [
      "with normalization on V\n"
     ]
    },
    {
     "data": {
      "application/vnd.jupyter.widget-view+json": {
       "model_id": "6d80ce27d4da46fb871daa2661bb5e33",
       "version_major": 2,
       "version_minor": 0
      },
      "text/plain": [
       "Epochs:   0%|          | 0/10 [00:00<?, ?it/s]"
      ]
     },
     "metadata": {},
     "output_type": "display_data"
    },
    {
     "name": "stdout",
     "output_type": "stream",
     "text": [
      "round:  9 state dim:  50\n",
      "without normaliztion on V\n"
     ]
    },
    {
     "data": {
      "application/vnd.jupyter.widget-view+json": {
       "model_id": "0a859b11b15c4d0eafbe1714d13ce850",
       "version_major": 2,
       "version_minor": 0
      },
      "text/plain": [
       "Epochs:   0%|          | 0/10 [00:00<?, ?it/s]"
      ]
     },
     "metadata": {},
     "output_type": "display_data"
    },
    {
     "name": "stdout",
     "output_type": "stream",
     "text": [
      "with normalization on V\n"
     ]
    },
    {
     "data": {
      "application/vnd.jupyter.widget-view+json": {
       "model_id": "c4e0beccc9fe41b6a1f11da4a032dcd7",
       "version_major": 2,
       "version_minor": 0
      },
      "text/plain": [
       "Epochs:   0%|          | 0/10 [00:00<?, ?it/s]"
      ]
     },
     "metadata": {},
     "output_type": "display_data"
    },
    {
     "name": "stdout",
     "output_type": "stream",
     "text": [
      "round:  9 state dim:  100\n",
      "without normaliztion on V\n"
     ]
    },
    {
     "data": {
      "application/vnd.jupyter.widget-view+json": {
       "model_id": "219ace6307b14b5b81447c62d9e20832",
       "version_major": 2,
       "version_minor": 0
      },
      "text/plain": [
       "Epochs:   0%|          | 0/10 [00:00<?, ?it/s]"
      ]
     },
     "metadata": {},
     "output_type": "display_data"
    },
    {
     "name": "stdout",
     "output_type": "stream",
     "text": [
      "with normalization on V\n"
     ]
    },
    {
     "data": {
      "application/vnd.jupyter.widget-view+json": {
       "model_id": "30faa2c956984c6fb82100d482183022",
       "version_major": 2,
       "version_minor": 0
      },
      "text/plain": [
       "Epochs:   0%|          | 0/10 [00:00<?, ?it/s]"
      ]
     },
     "metadata": {},
     "output_type": "display_data"
    },
    {
     "name": "stdout",
     "output_type": "stream",
     "text": [
      "round:  9 state dim:  200\n",
      "without normaliztion on V\n"
     ]
    },
    {
     "data": {
      "application/vnd.jupyter.widget-view+json": {
       "model_id": "d5b0a4528e2240c4ab71d03b02d42838",
       "version_major": 2,
       "version_minor": 0
      },
      "text/plain": [
       "Epochs:   0%|          | 0/10 [00:00<?, ?it/s]"
      ]
     },
     "metadata": {},
     "output_type": "display_data"
    },
    {
     "name": "stdout",
     "output_type": "stream",
     "text": [
      "with normalization on V\n"
     ]
    },
    {
     "data": {
      "application/vnd.jupyter.widget-view+json": {
       "model_id": "8906de88e246417890493e6ee79bdfaf",
       "version_major": 2,
       "version_minor": 0
      },
      "text/plain": [
       "Epochs:   0%|          | 0/10 [00:00<?, ?it/s]"
      ]
     },
     "metadata": {},
     "output_type": "display_data"
    },
    {
     "name": "stdout",
     "output_type": "stream",
     "text": [
      "round:  9 state dim:  500\n",
      "without normaliztion on V\n"
     ]
    },
    {
     "data": {
      "application/vnd.jupyter.widget-view+json": {
       "model_id": "b67ea575cea94117856bb2418c8db618",
       "version_major": 2,
       "version_minor": 0
      },
      "text/plain": [
       "Epochs:   0%|          | 0/10 [00:00<?, ?it/s]"
      ]
     },
     "metadata": {},
     "output_type": "display_data"
    },
    {
     "name": "stdout",
     "output_type": "stream",
     "text": [
      "with normalization on V\n"
     ]
    },
    {
     "data": {
      "application/vnd.jupyter.widget-view+json": {
       "model_id": "5316902a5dbe4cb4979524e7350321ad",
       "version_major": 2,
       "version_minor": 0
      },
      "text/plain": [
       "Epochs:   0%|          | 0/10 [00:00<?, ?it/s]"
      ]
     },
     "metadata": {},
     "output_type": "display_data"
    },
    {
     "name": "stdout",
     "output_type": "stream",
     "text": [
      "round:  9 state dim:  1000\n",
      "without normaliztion on V\n"
     ]
    },
    {
     "data": {
      "application/vnd.jupyter.widget-view+json": {
       "model_id": "847b2751fb04427a9f0381600b16a63d",
       "version_major": 2,
       "version_minor": 0
      },
      "text/plain": [
       "Epochs:   0%|          | 0/10 [00:00<?, ?it/s]"
      ]
     },
     "metadata": {},
     "output_type": "display_data"
    },
    {
     "name": "stdout",
     "output_type": "stream",
     "text": [
      "with normalization on V\n"
     ]
    },
    {
     "data": {
      "application/vnd.jupyter.widget-view+json": {
       "model_id": "2147678480e64184aa923037dd7928a2",
       "version_major": 2,
       "version_minor": 0
      },
      "text/plain": [
       "Epochs:   0%|          | 0/10 [00:00<?, ?it/s]"
      ]
     },
     "metadata": {},
     "output_type": "display_data"
    },
    {
     "name": "stdout",
     "output_type": "stream",
     "text": [
      "round:  9 state dim:  2000\n",
      "without normaliztion on V\n"
     ]
    },
    {
     "data": {
      "application/vnd.jupyter.widget-view+json": {
       "model_id": "b5368680cae1482e9b2b72a9cdf3ffd2",
       "version_major": 2,
       "version_minor": 0
      },
      "text/plain": [
       "Epochs:   0%|          | 0/10 [00:00<?, ?it/s]"
      ]
     },
     "metadata": {},
     "output_type": "display_data"
    },
    {
     "name": "stdout",
     "output_type": "stream",
     "text": [
      "with normalization on V\n"
     ]
    },
    {
     "data": {
      "application/vnd.jupyter.widget-view+json": {
       "model_id": "ed0ebbd415cd478cb20bf5fa07ba10b0",
       "version_major": 2,
       "version_minor": 0
      },
      "text/plain": [
       "Epochs:   0%|          | 0/10 [00:00<?, ?it/s]"
      ]
     },
     "metadata": {},
     "output_type": "display_data"
    },
    {
     "name": "stdout",
     "output_type": "stream",
     "text": [
      "round:  9 state dim:  5000\n",
      "without normaliztion on V\n"
     ]
    },
    {
     "data": {
      "application/vnd.jupyter.widget-view+json": {
       "model_id": "d69812738b28459fbac3387aacc24e1d",
       "version_major": 2,
       "version_minor": 0
      },
      "text/plain": [
       "Epochs:   0%|          | 0/10 [00:00<?, ?it/s]"
      ]
     },
     "metadata": {},
     "output_type": "display_data"
    },
    {
     "name": "stdout",
     "output_type": "stream",
     "text": [
      "with normalization on V\n"
     ]
    },
    {
     "data": {
      "application/vnd.jupyter.widget-view+json": {
       "model_id": "0671d18b8bcb453c94674b957abbee26",
       "version_major": 2,
       "version_minor": 0
      },
      "text/plain": [
       "Epochs:   0%|          | 0/10 [00:00<?, ?it/s]"
      ]
     },
     "metadata": {},
     "output_type": "display_data"
    },
    {
     "name": "stdout",
     "output_type": "stream",
     "text": [
      "round:  9 state dim:  10000\n",
      "without normaliztion on V\n"
     ]
    },
    {
     "data": {
      "application/vnd.jupyter.widget-view+json": {
       "model_id": "0e1b38b3881b4d37b5f5f41f94040d56",
       "version_major": 2,
       "version_minor": 0
      },
      "text/plain": [
       "Epochs:   0%|          | 0/10 [00:00<?, ?it/s]"
      ]
     },
     "metadata": {},
     "output_type": "display_data"
    },
    {
     "name": "stdout",
     "output_type": "stream",
     "text": [
      "with normalization on V\n"
     ]
    },
    {
     "data": {
      "application/vnd.jupyter.widget-view+json": {
       "model_id": "aeeb1beacdab45ba882224754c4be940",
       "version_major": 2,
       "version_minor": 0
      },
      "text/plain": [
       "Epochs:   0%|          | 0/10 [00:00<?, ?it/s]"
      ]
     },
     "metadata": {},
     "output_type": "display_data"
    }
   ],
   "source": [
    "n_nodes = 32\n",
    "batch_size = 32\n",
    "state_dims = [10,20,50,100,200,500,1000,2000,5000,10000]\n",
    "epochs = 10\n",
    "\n",
    "num_desired_trajectories=200\n",
    "repeats = 10\n",
    "all_means = []\n",
    "all_means_norm = []\n",
    "env = GraphEnv(n_nodes, env='random')\n",
    "for r in tqdm(range(repeats), desc=\"rounds\"):\n",
    "    means = []\n",
    "    means_norm = []\n",
    "    for state_dim in state_dims:\n",
    "        print('round: ', r, 'state dim: ', state_dim)\n",
    "    # choose env from \"random\", \"small world\" or \"dead ends\"\n",
    "#         env = GraphEnv(n_nodes, env='random')\n",
    "        dataset = RandomWalkDataset(env.adj_matrix, batch_size, num_desired_trajectories)\n",
    "        dataloader = DataLoader(dataset, batch_size=1, shuffle=True)\n",
    "        model = Agent(env.size, env.n_actions, state_dim)\n",
    "        print('without normaliztion on V')\n",
    "        loss_record = train_model(model, dataloader, epochs, norm=False)\n",
    "        mean_CML = test_model(model, env, False)\n",
    "        means.append(mean_CML)\n",
    "        \n",
    "        model = Agent(env.size, env.n_actions, state_dim)\n",
    "        print('with normalization on V')\n",
    "        loss_record = train_model(model, dataloader, epochs, norm=True)\n",
    "        mean_CML_norm = test_model(model, env, False)\n",
    "        means_norm.append(mean_CML_norm)\n",
    "        \n",
    "    all_means.append(means)\n",
    "    all_means_norm.append(means_norm)"
   ]
  },
  {
   "cell_type": "code",
   "execution_count": 13,
   "id": "58936216",
   "metadata": {},
   "outputs": [
    {
     "data": {
      "text/plain": [
       "<Figure size 640x480 with 0 Axes>"
      ]
     },
     "metadata": {},
     "output_type": "display_data"
    },
    {
     "data": {
      "image/png": "[encoded data removed]",
      "text/plain": [
       "<Figure size 1800x900 with 1 Axes>"
      ]
     },
     "metadata": {},
     "output_type": "display_data"
    }
   ],
   "source": [
    "# import seaborn as sns\n",
    "all_means = np.array(all_means)\n",
    "mean = all_means.mean(axis=0)\n",
    "std = all_means.std(axis=0)\n",
    "\n",
    "all_means_norm = np.array(all_means_norm)\n",
    "mean_norm = all_means_norm.mean(axis=0)\n",
    "std_norm = all_means_norm.std(axis=0)\n",
    "# Plot the fill between for the With Normalization data\n",
    "# Set seaborn default style\n",
    "# sns.set_style(None)\n",
    "\n",
    "plt.rcParams['font.size'] = 22\n",
    "plt.figure()\n",
    "fig, axes = plt.subplots(1, 1, figsize=(6, 3), dpi=300)\n",
    "\n",
    "\n",
    "axes.fill_between(state_dims, \n",
    "                  mean_norm - std_norm,\n",
    "                  mean_norm + std_norm,\n",
    "                  color='tab:blue', alpha=0.2)\n",
    "\n",
    "axes.plot(state_dims, mean_norm, '-o', alpha=.9, color='tab:blue', lw=3, label='with normalization')\n",
    "\n",
    "axes.fill_between(state_dims, \n",
    "                  mean - std,\n",
    "                  mean + std,\n",
    "                  color='tab:orange', alpha=0.2)\n",
    "\n",
    "axes.plot(state_dims, mean, '-o', alpha=.9, color='tab:orange', lw=3,label='w/o normalization')\n",
    "\n",
    "axes.legend()\n",
    "axes.set_xscale('log')\n",
    "axes.spines['top'].set_visible(False)\n",
    "axes.spines['right'].set_visible(False)\n",
    "\n",
    "axes.xaxis.set_ticks_position('bottom')\n",
    "axes.yaxis.set_ticks_position('left')"
   ]
  },
  {
   "cell_type": "code",
   "execution_count": null,
   "id": "dfe200b3",
   "metadata": {},
   "outputs": [],
   "source": []
  }
 ],
 "metadata": {
  "kernelspec": {
   "display_name": "Python 3 (ipykernel)",
   "language": "python",
   "name": "python3"
  },
  "language_info": {
   "codemirror_mode": {
    "name": "ipython",
    "version": 3
   },
   "file_extension": ".py",
   "mimetype": "text/x-python",
   "name": "python",
   "nbconvert_exporter": "python",
   "pygments_lexer": "ipython3",
   "version": "3.9.13"
  }
 },
 "nbformat": 4,
 "nbformat_minor": 5
}
